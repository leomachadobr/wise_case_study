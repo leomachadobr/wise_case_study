{
 "cells": [
  {
   "cell_type": "code",
   "execution_count": 1,
   "id": "2e96f6a5",
   "metadata": {},
   "outputs": [
    {
     "name": "stdout",
     "output_type": "stream",
     "text": [
      "Friction and power usage tables exported.\n"
     ]
    },
    {
     "name": "stderr",
     "output_type": "stream",
     "text": [
      "/var/folders/ml/klt3p20j5xj8cgxtrxqrd6s00000gn/T/ipykernel_1927/246389249.py:39: FutureWarning: The default of observed=False is deprecated and will be changed to True in a future version of pandas. Pass observed=False to retain current behavior or observed=True to adopt the future default and silence this warning.\n",
      "  power = user_stats.groupby(\"intensity_bucket\").agg(\n"
     ]
    }
   ],
   "source": [
    "# Notebook 3 — Friction & Power Usage\n",
    "import pandas as pd\n",
    "import numpy as np\n",
    "\n",
    "transfers = pd.read_csv(\"../data/transfers_level.csv\", parse_dates=[\"created_dt\",\"funded_dt\",\"transferred_dt\"])\n",
    "\n",
    "# Time deltas (friction)\n",
    "transfers[\"to_funded_hours\"] = (transfers[\"funded_dt\"] - transfers[\"created_dt\"]).dt.total_seconds() / 3600\n",
    "transfers[\"to_transferred_hours\"] = (transfers[\"transferred_dt\"] - transfers[\"funded_dt\"]).dt.total_seconds() / 3600\n",
    "\n",
    "by_seg = [\"region\",\"platform\",\"experience\"]\n",
    "friction = transfers.groupby(by_seg, dropna=False).agg(\n",
    "    created=(\"transfer_created\",\"sum\"),\n",
    "    funded=(\"transfer_funded\",\"sum\"),\n",
    "    transferred=(\"transfer_transferred\",\"sum\"),\n",
    "    ttf_median_hours=(\"to_funded_hours\",\"median\"),\n",
    "    ttt_median_hours=(\"to_transferred_hours\",\"median\")\n",
    ").reset_index()\n",
    "\n",
    "friction[\"cr_created_to_funded\"] = (friction[\"funded\"]/friction[\"created\"]).fillna(0)\n",
    "friction[\"cr_funded_to_transferred\"] = (friction[\"transferred\"]/friction[\"funded\"]).fillna(0)\n",
    "friction[\"failure_rate\"] = (friction[\"created\"] - friction[\"transferred\"]).div(friction[\"created\"]).fillna(0)\n",
    "friction[\"success_rate\"] = 1 - friction[\"failure_rate\"]\n",
    "\n",
    "friction.to_csv(\"../data/friction_segmented.csv\", index=False)\n",
    "\n",
    "# Power usage: user-level intensity vs success\n",
    "user_stats = transfers.groupby(\"user_id\").agg(\n",
    "    transfers_created=(\"transfer_created\",\"sum\"),\n",
    "    transfers_transferred=(\"transfer_transferred\",\"sum\")\n",
    ").reset_index()\n",
    "user_stats[\"success_rate\"] = (user_stats[\"transfers_transferred\"] / user_stats[\"transfers_created\"]).fillna(0)\n",
    "user_stats[\"intensity\"] = user_stats[\"transfers_created\"]\n",
    "\n",
    "bins = [0,1,2,5,10,25,50,1e9]\n",
    "labels = [\"1\",\"2\",\"3-5\",\"6-10\",\"11-25\",\"26-50\",\"50+\"]\n",
    "user_stats[\"intensity_bucket\"] = pd.cut(user_stats[\"intensity\"], bins=bins, labels=labels, right=True)\n",
    "\n",
    "power = user_stats.groupby(\"intensity_bucket\").agg(\n",
    "    users=(\"user_id\",\"count\"),\n",
    "    avg_success_rate=(\"success_rate\",\"mean\"),\n",
    "    total_transfers=(\"intensity\",\"sum\")\n",
    ").reset_index()\n",
    "\n",
    "power.to_csv(\"../data/power_usage.csv\", index=False)\n",
    "\n",
    "print(\"Friction and power usage tables exported.\")"
   ]
  },
  {
   "cell_type": "code",
   "execution_count": null,
   "id": "8c8c21dc-4eec-4f02-9904-850e71ff0a17",
   "metadata": {},
   "outputs": [],
   "source": []
  }
 ],
 "metadata": {
  "kernelspec": {
   "display_name": "Python 3 (ipykernel)",
   "language": "python",
   "name": "python3"
  },
  "language_info": {
   "codemirror_mode": {
    "name": "ipython",
    "version": 3
   },
   "file_extension": ".py",
   "mimetype": "text/x-python",
   "name": "python",
   "nbconvert_exporter": "python",
   "pygments_lexer": "ipython3",
   "version": "3.12.4"
  }
 },
 "nbformat": 4,
 "nbformat_minor": 5
}
