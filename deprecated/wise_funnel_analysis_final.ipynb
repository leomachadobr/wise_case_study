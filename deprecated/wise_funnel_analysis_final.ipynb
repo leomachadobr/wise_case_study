{
 "cells": [
  {
   "cell_type": "markdown",
   "metadata": {},
   "source": [
    "# Wise MXN→USD Transfer Funnel Analysis\n",
    "\n",
    "**Period:** February 2024  \n",
    "**Focus:** User funnel progression, frequent users, and New vs Existing customer patterns\n",
    "\n",
    "---"
   ]
  },
  {
   "cell_type": "markdown",
   "metadata": {},
   "source": [
    "## 1. Exploratory Data Analysis"
   ]
  },
  {
   "cell_type": "code",
   "execution_count": 1,
   "metadata": {},
   "outputs": [
    {
     "name": "stdout",
     "output_type": "stream",
     "text": [
      "📊 DATASET OVERVIEW\n",
      "==================================================\n",
      "Total events: 73,440\n",
      "Unique users: 40,223\n",
      "Date range: 2024-01-01 to 2024-03-01\n",
      "Total days: 61\n",
      "\n",
      "📋 EVENT BREAKDOWN:\n",
      "• Transfer Created: 43,070 events (58.6%)\n",
      "• Transfer Funded: 19,290 events (26.3%)\n",
      "• Transfer Transferred: 11,080 events (15.1%)\n",
      "\n",
      "🌍 DIMENSIONS:\n",
      "• Regions: 3 - ['NorthAm', 'Europe', 'Other']\n",
      "• Platforms: 3 - ['iOS', 'Web', 'Android']\n",
      "• Experience types: 2 - ['Existing', 'New']\n",
      "\n",
      "📄 SAMPLE DATA:\n"
     ]
    },
    {
     "data": {
      "text/html": [
       "<div>\n",
       "<style scoped>\n",
       "    .dataframe tbody tr th:only-of-type {\n",
       "        vertical-align: middle;\n",
       "    }\n",
       "\n",
       "    .dataframe tbody tr th {\n",
       "        vertical-align: top;\n",
       "    }\n",
       "\n",
       "    .dataframe thead th {\n",
       "        text-align: right;\n",
       "    }\n",
       "</style>\n",
       "<table border=\"1\" class=\"dataframe\">\n",
       "  <thead>\n",
       "    <tr style=\"text-align: right;\">\n",
       "      <th></th>\n",
       "      <th>event_name</th>\n",
       "      <th>dt</th>\n",
       "      <th>user_id</th>\n",
       "      <th>region</th>\n",
       "      <th>platform</th>\n",
       "      <th>experience</th>\n",
       "      <th>week</th>\n",
       "      <th>day_of_week</th>\n",
       "    </tr>\n",
       "  </thead>\n",
       "  <tbody>\n",
       "    <tr>\n",
       "      <th>0</th>\n",
       "      <td>Transfer Funded</td>\n",
       "      <td>2024-02-15</td>\n",
       "      <td>1513280.0</td>\n",
       "      <td>NorthAm</td>\n",
       "      <td>iOS</td>\n",
       "      <td>Existing</td>\n",
       "      <td>7</td>\n",
       "      <td>Thursday</td>\n",
       "    </tr>\n",
       "    <tr>\n",
       "      <th>1</th>\n",
       "      <td>Transfer Funded</td>\n",
       "      <td>2024-02-29</td>\n",
       "      <td>1270052.0</td>\n",
       "      <td>NorthAm</td>\n",
       "      <td>iOS</td>\n",
       "      <td>Existing</td>\n",
       "      <td>9</td>\n",
       "      <td>Thursday</td>\n",
       "    </tr>\n",
       "    <tr>\n",
       "      <th>2</th>\n",
       "      <td>Transfer Transferred</td>\n",
       "      <td>2024-02-29</td>\n",
       "      <td>1270052.0</td>\n",
       "      <td>NorthAm</td>\n",
       "      <td>iOS</td>\n",
       "      <td>Existing</td>\n",
       "      <td>9</td>\n",
       "      <td>Thursday</td>\n",
       "    </tr>\n",
       "    <tr>\n",
       "      <th>3</th>\n",
       "      <td>Transfer Funded</td>\n",
       "      <td>2024-02-25</td>\n",
       "      <td>1399835.0</td>\n",
       "      <td>NorthAm</td>\n",
       "      <td>iOS</td>\n",
       "      <td>Existing</td>\n",
       "      <td>8</td>\n",
       "      <td>Sunday</td>\n",
       "    </tr>\n",
       "    <tr>\n",
       "      <th>4</th>\n",
       "      <td>Transfer Transferred</td>\n",
       "      <td>2024-02-25</td>\n",
       "      <td>1399835.0</td>\n",
       "      <td>NorthAm</td>\n",
       "      <td>iOS</td>\n",
       "      <td>Existing</td>\n",
       "      <td>8</td>\n",
       "      <td>Sunday</td>\n",
       "    </tr>\n",
       "  </tbody>\n",
       "</table>\n",
       "</div>"
      ],
      "text/plain": [
       "             event_name         dt    user_id   region platform experience  \\\n",
       "0       Transfer Funded 2024-02-15  1513280.0  NorthAm      iOS   Existing   \n",
       "1       Transfer Funded 2024-02-29  1270052.0  NorthAm      iOS   Existing   \n",
       "2  Transfer Transferred 2024-02-29  1270052.0  NorthAm      iOS   Existing   \n",
       "3       Transfer Funded 2024-02-25  1399835.0  NorthAm      iOS   Existing   \n",
       "4  Transfer Transferred 2024-02-25  1399835.0  NorthAm      iOS   Existing   \n",
       "\n",
       "   week day_of_week  \n",
       "0     7    Thursday  \n",
       "1     9    Thursday  \n",
       "2     9    Thursday  \n",
       "3     8      Sunday  \n",
       "4     8      Sunday  "
      ]
     },
     "execution_count": 1,
     "metadata": {},
     "output_type": "execute_result"
    }
   ],
   "source": [
    "# Import libraries and load data\n",
    "import pandas as pd\n",
    "import numpy as np\n",
    "import matplotlib.pyplot as plt\n",
    "import seaborn as sns\n",
    "from datetime import datetime, timedelta\n",
    "import warnings\n",
    "warnings.filterwarnings('ignore')\n",
    "\n",
    "# Set visualization style\n",
    "plt.style.use('seaborn-v0_8')\n",
    "sns.set_palette(\"husl\")\n",
    "plt.rcParams['figure.figsize'] = (12, 8)\n",
    "\n",
    "# Load data\n",
    "df = pd.read_csv('src/wise_funnel_events.csv')\n",
    "df['dt'] = pd.to_datetime(df['dt'])\n",
    "df['week'] = df['dt'].dt.isocalendar().week\n",
    "df['day_of_week'] = df['dt'].dt.day_name()\n",
    "\n",
    "print(\"📊 DATASET OVERVIEW\")\n",
    "print(\"=\"*50)\n",
    "print(f\"Total events: {len(df):,}\")\n",
    "print(f\"Unique users: {df['user_id'].nunique():,}\")\n",
    "print(f\"Date range: {df['dt'].min().strftime('%Y-%m-%d')} to {df['dt'].max().strftime('%Y-%m-%d')}\")\n",
    "print(f\"Total days: {(df['dt'].max() - df['dt'].min()).days + 1}\")\n",
    "\n",
    "# Event breakdown\n",
    "print(f\"\\n📋 EVENT BREAKDOWN:\")\n",
    "event_counts = df['event_name'].value_counts()\n",
    "for event, count in event_counts.items():\n",
    "    pct = count / len(df) * 100\n",
    "    print(f\"• {event}: {count:,} events ({pct:.1f}%)\")\n",
    "\n",
    "# Basic dimensions\n",
    "print(f\"\\n🌍 DIMENSIONS:\")\n",
    "print(f\"• Regions: {df['region'].nunique()} - {list(df['region'].unique())}\")\n",
    "print(f\"• Platforms: {df['platform'].nunique()} - {list(df['platform'].unique())}\")\n",
    "print(f\"• Experience types: {df['experience'].nunique()} - {list(df['experience'].unique())}\")\n",
    "\n",
    "# Display sample data\n",
    "print(f\"\\n📄 SAMPLE DATA:\")\n",
    "df.head()"
   ]
  },
  {
   "cell_type": "code",
   "execution_count": 2,
   "metadata": {},
   "outputs": [
    {
     "data": {
      "image/png": "[encoded data removed]",
      "text/plain": [
       "<Figure size 1600x1200 with 4 Axes>"
      ]
     },
     "metadata": {},
     "output_type": "display_data"
    },
    {
     "name": "stdout",
     "output_type": "stream",
     "text": [
      "📊 DISTRIBUTION PERCENTAGES:\n",
      "\n",
      "Experience:\n",
      "• New: 54.2%\n",
      "• Existing: 45.8%\n",
      "\n",
      "Platform:\n",
      "• Android: 37.6%\n",
      "• iOS: 34.9%\n",
      "• Web: 27.6%\n",
      "\n",
      "Region:\n",
      "• Other: 38.5%\n",
      "• Europe: 34.9%\n",
      "• NorthAm: 26.5%\n"
     ]
    }
   ],
   "source": [
    "# Event distribution visualization\n",
    "fig, axes = plt.subplots(2, 2, figsize=(16, 12))\n",
    "\n",
    "# 1. Event counts\n",
    "event_counts.plot(kind='bar', ax=axes[0,0], color=['#ff7f0e', '#2ca02c', '#1f77b4'])\n",
    "axes[0,0].set_title('Event Distribution', fontweight='bold')\n",
    "axes[0,0].set_ylabel('Number of Events')\n",
    "axes[0,0].tick_params(axis='x', rotation=45)\n",
    "\n",
    "# 2. Experience distribution\n",
    "exp_counts = df['experience'].value_counts()\n",
    "exp_counts.plot(kind='bar', ax=axes[0,1], color=['skyblue', 'lightcoral'])\n",
    "axes[0,1].set_title('Experience Type Distribution', fontweight='bold')\n",
    "axes[0,1].set_ylabel('Number of Events')\n",
    "axes[0,1].tick_params(axis='x', rotation=0)\n",
    "\n",
    "# 3. Platform distribution\n",
    "platform_counts = df['platform'].value_counts()\n",
    "platform_counts.plot(kind='bar', ax=axes[1,0], color=['lightgreen', 'orange'])\n",
    "axes[1,0].set_title('Platform Distribution', fontweight='bold')\n",
    "axes[1,0].set_ylabel('Number of Events')\n",
    "axes[1,0].tick_params(axis='x', rotation=0)\n",
    "\n",
    "# 4. Region distribution\n",
    "region_counts = df['region'].value_counts()\n",
    "region_counts.plot(kind='bar', ax=axes[1,1], color=['purple', 'brown'])\n",
    "axes[1,1].set_title('Region Distribution', fontweight='bold')\n",
    "axes[1,1].set_ylabel('Number of Events')\n",
    "axes[1,1].tick_params(axis='x', rotation=45)\n",
    "\n",
    "plt.tight_layout()\n",
    "plt.show()\n",
    "\n",
    "# Print percentages\n",
    "print(\"📊 DISTRIBUTION PERCENTAGES:\")\n",
    "print(f\"\\nExperience:\")\n",
    "for exp, count in exp_counts.items():\n",
    "    print(f\"• {exp}: {count/len(df)*100:.1f}%\")\n",
    "\n",
    "print(f\"\\nPlatform:\")\n",
    "for platform, count in platform_counts.items():\n",
    "    print(f\"• {platform}: {count/len(df)*100:.1f}%\")\n",
    "\n",
    "print(f\"\\nRegion:\")\n",
    "for region, count in region_counts.items():\n",
    "    print(f\"• {region}: {count/len(df)*100:.1f}%\")"
   ]
  },
  {
   "cell_type": "markdown",
   "metadata": {},
   "source": [
    "## 2. Funnel Progression Analysis\n",
    "\n",
    "### Focus: From Transfer Created → Transfer Funded → Transfer Transferred"
   ]
  },
  {
   "cell_type": "code",
   "execution_count": 3,
   "metadata": {},
   "outputs": [
    {
     "name": "stdout",
     "output_type": "stream",
     "text": [
      "🎯 FUNNEL PROGRESSION ANALYSIS\n",
      "==================================================\n",
      "👥 FUNNEL PROGRESSION:\n",
      "• Users who created transfers: 40,223\n",
      "• Users who funded transfers: 18,195\n",
      "• Users who completed transfers: 10,557\n",
      "\n",
      "📈 CONVERSION RATES:\n",
      "• Created → Funded: 45.2%\n",
      "• Funded → Transferred: 58.0%\n",
      "• Created → Transferred (Overall): 26.2%\n",
      "\n",
      "🚨 DROP-OFF ANALYSIS:\n",
      "• Users who created but never funded: 22,028 (54.8%)\n",
      "• Users who funded but never transferred: 7,638 (42.0%)\n"
     ]
    },
    {
     "data": {
      "image/png": "[encoded data removed]",
      "text/plain": [
       "<Figure size 1600x600 with 2 Axes>"
      ]
     },
     "metadata": {},
     "output_type": "display_data"
    }
   ],
   "source": [
    "print(\"🎯 FUNNEL PROGRESSION ANALYSIS\")\n",
    "print(\"=\"*50)\n",
    "\n",
    "# Step 1: Users who created transfers\n",
    "created_users = set(df[df['event_name'] == 'Transfer Created']['user_id'])\n",
    "funded_users = set(df[df['event_name'] == 'Transfer Funded']['user_id'])\n",
    "transferred_users = set(df[df['event_name'] == 'Transfer Transferred']['user_id'])\n",
    "\n",
    "print(f\"👥 FUNNEL PROGRESSION:\")\n",
    "print(f\"• Users who created transfers: {len(created_users):,}\")\n",
    "print(f\"• Users who funded transfers: {len(funded_users):,}\")\n",
    "print(f\"• Users who completed transfers: {len(transferred_users):,}\")\n",
    "\n",
    "# Conversion rates\n",
    "created_to_funded = len(funded_users) / len(created_users) * 100\n",
    "funded_to_transferred = len(transferred_users) / len(funded_users) * 100\n",
    "created_to_transferred = len(transferred_users) / len(created_users) * 100\n",
    "\n",
    "print(f\"\\n📈 CONVERSION RATES:\")\n",
    "print(f\"• Created → Funded: {created_to_funded:.1f}%\")\n",
    "print(f\"• Funded → Transferred: {funded_to_transferred:.1f}%\")\n",
    "print(f\"• Created → Transferred (Overall): {created_to_transferred:.1f}%\")\n",
    "\n",
    "# Drop-off analysis\n",
    "created_not_funded = created_users - funded_users\n",
    "funded_not_transferred = funded_users - transferred_users\n",
    "\n",
    "print(f\"\\n🚨 DROP-OFF ANALYSIS:\")\n",
    "print(f\"• Users who created but never funded: {len(created_not_funded):,} ({len(created_not_funded)/len(created_users)*100:.1f}%)\")\n",
    "print(f\"• Users who funded but never transferred: {len(funded_not_transferred):,} ({len(funded_not_transferred)/len(funded_users)*100:.1f}%)\")\n",
    "\n",
    "# Visualize funnel\n",
    "fig, (ax1, ax2) = plt.subplots(1, 2, figsize=(16, 6))\n",
    "\n",
    "# Absolute numbers\n",
    "funnel_stages = ['Created', 'Funded', 'Transferred']\n",
    "funnel_counts = [len(created_users), len(funded_users), len(transferred_users)]\n",
    "colors = ['#ff7f0e', '#2ca02c', '#1f77b4']\n",
    "\n",
    "bars1 = ax1.bar(funnel_stages, funnel_counts, color=colors)\n",
    "ax1.set_title('Funnel: Unique Users by Stage', fontweight='bold', fontsize=14)\n",
    "ax1.set_ylabel('Number of Users')\n",
    "\n",
    "# Add value labels\n",
    "for bar, count in zip(bars1, funnel_counts):\n",
    "    height = bar.get_height()\n",
    "    ax1.text(bar.get_x() + bar.get_width()/2., height + 100,\n",
    "             f'{count:,}', ha='center', va='bottom', fontweight='bold')\n",
    "\n",
    "# Conversion rates\n",
    "conversion_rates = [100, created_to_funded, created_to_transferred]\n",
    "bars2 = ax2.bar(funnel_stages, conversion_rates, color=colors)\n",
    "ax2.set_title('Funnel: Conversion Rates (% of Created)', fontweight='bold', fontsize=14)\n",
    "ax2.set_ylabel('Conversion Rate (%)')\n",
    "ax2.set_ylim(0, 105)\n",
    "\n",
    "# Add value labels\n",
    "for bar, rate in zip(bars2, conversion_rates):\n",
    "    height = bar.get_height()\n",
    "    ax2.text(bar.get_x() + bar.get_width()/2., height + 1,\n",
    "             f'{rate:.1f}%', ha='center', va='bottom', fontweight='bold')\n",
    "\n",
    "plt.tight_layout()\n",
    "plt.show()"
   ]
  },
  {
   "cell_type": "markdown",
   "metadata": {},
   "source": [
    "## 3. Frequent Users Analysis\n",
    "\n",
    "### Who are the customers doing transfers frequently?"
   ]
  },
  {
   "cell_type": "code",
   "execution_count": 4,
   "metadata": {},
   "outputs": [
    {
     "name": "stdout",
     "output_type": "stream",
     "text": [
      "👑 FREQUENT USERS ANALYSIS\n",
      "========================================\n",
      "📊 TRANSFER FREQUENCY DISTRIBUTION:\n",
      "• 1 completed transfer(s): 10,044 users (95.1%)\n",
      "• 2 completed transfer(s): 503 users (4.8%)\n",
      "• 3 completed transfer(s): 10 users (0.1%)\n",
      "\n",
      "👑 FREQUENT USERS (2+ completed transfers):\n",
      "• Total frequent users: 513\n",
      "• % of users with transfers: 4.9%\n",
      "• % of all users who created: 1.3%\n",
      "• Average transfers per frequent user: 2.0\n",
      "• Max transfers by single user: 3\n",
      "\n",
      "🏆 TOP 10 MOST FREQUENT USERS:\n",
      " 1. User 1556990.0: 3 completed transfers\n",
      " 2. User 1771786.0: 3 completed transfers\n",
      " 3. User 1351181.0: 3 completed transfers\n",
      " 4. User 1116906.0: 3 completed transfers\n",
      " 5. User 1019293.0: 3 completed transfers\n",
      " 6. User 1205546.0: 3 completed transfers\n",
      " 7. User 1034794.0: 3 completed transfers\n",
      " 8. User 1525096.0: 3 completed transfers\n",
      " 9. User 1490983.0: 3 completed transfers\n",
      "10. User 1586462.0: 3 completed transfers\n",
      "\n",
      "🔍 FREQUENT USER CHARACTERISTICS:\n",
      "Platform distribution:\n",
      "• iOS: 42.9%\n",
      "• Android: 31.2%\n",
      "• Web: 25.9%\n",
      "\n",
      "Experience distribution:\n",
      "• Existing: 80.2%\n",
      "• New: 19.8%\n",
      "\n",
      "Region distribution:\n",
      "• NorthAm: 54.3%\n",
      "• Europe: 26.7%\n",
      "• Other: 19.0%\n"
     ]
    },
    {
     "data": {
      "image/png": "[encoded data removed]",
      "text/plain": [
       "<Figure size 1600x600 with 2 Axes>"
      ]
     },
     "metadata": {},
     "output_type": "display_data"
    }
   ],
   "source": [
    "print(\"👑 FREQUENT USERS ANALYSIS\")\n",
    "print(\"=\"*40)\n",
    "\n",
    "# Count completed transfers per user\n",
    "user_transfer_counts = df[df['event_name'] == 'Transfer Transferred']['user_id'].value_counts()\n",
    "\n",
    "# Distribution of transfer frequency\n",
    "frequency_distribution = user_transfer_counts.value_counts().sort_index()\n",
    "\n",
    "print(f\"📊 TRANSFER FREQUENCY DISTRIBUTION:\")\n",
    "total_users_with_transfers = len(user_transfer_counts)\n",
    "for transfers, user_count in frequency_distribution.items():\n",
    "    pct = user_count / total_users_with_transfers * 100\n",
    "    print(f\"• {transfers} completed transfer(s): {user_count:,} users ({pct:.1f}%)\")\n",
    "\n",
    "# Identify frequent users (2+ transfers)\n",
    "frequent_users = user_transfer_counts[user_transfer_counts >= 2]\n",
    "print(f\"\\n👑 FREQUENT USERS (2+ completed transfers):\")\n",
    "print(f\"• Total frequent users: {len(frequent_users):,}\")\n",
    "print(f\"• % of users with transfers: {len(frequent_users)/total_users_with_transfers*100:.1f}%\")\n",
    "print(f\"• % of all users who created: {len(frequent_users)/len(created_users)*100:.1f}%\")\n",
    "\n",
    "if len(frequent_users) > 0:\n",
    "    print(f\"• Average transfers per frequent user: {frequent_users.mean():.1f}\")\n",
    "    print(f\"• Max transfers by single user: {frequent_users.max()}\")\n",
    "    \n",
    "    # Top frequent users\n",
    "    print(f\"\\n🏆 TOP 10 MOST FREQUENT USERS:\")\n",
    "    for i, (user_id, count) in enumerate(frequent_users.head(10).items(), 1):\n",
    "        print(f\"{i:2d}. User {user_id}: {count} completed transfers\")\n",
    "\n",
    "# Analyze frequent user characteristics\n",
    "if len(frequent_users) > 0:\n",
    "    frequent_user_ids = frequent_users.index.tolist()\n",
    "    frequent_user_data = df[df['user_id'].isin(frequent_user_ids)]\n",
    "    \n",
    "    print(f\"\\n🔍 FREQUENT USER CHARACTERISTICS:\")\n",
    "    print(f\"Platform distribution:\")\n",
    "    freq_platform = frequent_user_data['platform'].value_counts(normalize=True) * 100\n",
    "    for platform, pct in freq_platform.items():\n",
    "        print(f\"• {platform}: {pct:.1f}%\")\n",
    "    \n",
    "    print(f\"\\nExperience distribution:\")\n",
    "    freq_exp = frequent_user_data['experience'].value_counts(normalize=True) * 100\n",
    "    for exp, pct in freq_exp.items():\n",
    "        print(f\"• {exp}: {pct:.1f}%\")\n",
    "    \n",
    "    print(f\"\\nRegion distribution:\")\n",
    "    freq_region = frequent_user_data['region'].value_counts(normalize=True) * 100\n",
    "    for region, pct in freq_region.items():\n",
    "        print(f\"• {region}: {pct:.1f}%\")\n",
    "\n",
    "# Visualize frequency distribution\n",
    "fig, (ax1, ax2) = plt.subplots(1, 2, figsize=(16, 6))\n",
    "\n",
    "# Transfer frequency distribution\n",
    "frequency_distribution.plot(kind='bar', ax=ax1, color='skyblue')\n",
    "ax1.set_title('Distribution of Transfer Frequency', fontweight='bold')\n",
    "ax1.set_xlabel('Number of Completed Transfers')\n",
    "ax1.set_ylabel('Number of Users')\n",
    "ax1.tick_params(axis='x', rotation=0)\n",
    "\n",
    "# Add value labels\n",
    "for i, (transfers, count) in enumerate(frequency_distribution.items()):\n",
    "    ax1.text(i, count + max(frequency_distribution) * 0.01, f'{count:,}', \n",
    "             ha='center', va='bottom', fontweight='bold')\n",
    "\n",
    "# Cumulative percentage\n",
    "cumulative_pct = frequency_distribution.cumsum() / frequency_distribution.sum() * 100\n",
    "cumulative_pct.plot(kind='line', ax=ax2, marker='o', linewidth=2, markersize=8, color='red')\n",
    "ax2.set_title('Cumulative Distribution of Users by Transfer Frequency', fontweight='bold')\n",
    "ax2.set_xlabel('Number of Completed Transfers')\n",
    "ax2.set_ylabel('Cumulative % of Users')\n",
    "ax2.grid(True, alpha=0.3)\n",
    "ax2.set_ylim(0, 105)\n",
    "\n",
    "plt.tight_layout()\n",
    "plt.show()"
   ]
  },
  {
   "cell_type": "code",
   "execution_count": 5,
   "metadata": {},
   "outputs": [
    {
     "data": {
      "text/html": [
       "        <script type=\"text/javascript\">\n",
       "        window.PlotlyConfig = {MathJaxConfig: 'local'};\n",
       "        if (window.MathJax && window.MathJax.Hub && window.MathJax.Hub.Config) {window.MathJax.Hub.Config({SVG: {font: \"STIX-Web\"}});}\n",
       "        </script>\n",
       "        <script type=\"module\">import \"https://cdn.plot.ly/plotly-3.0.1.min\"</script>\n",
       "        "
      ]
     },
     "metadata": {},
     "output_type": "display_data"
    },
    {
     "name": "stdout",
     "output_type": "stream",
     "text": [
      "📊 FREQUENCY OF FREQUENCY ANALYSIS\n",
      "==================================================\n",
      "\n",
      "TRANSFER CREATED:\n",
      "• Total unique users: 40,223\n",
      "• Frequency distribution:\n",
      "  - 1 time(s): 37,496 users (93.2%)\n",
      "  - 2 time(s): 2,633 users (6.5%)\n",
      "  - 3 time(s): 71 users (0.2%)\n",
      "  - 4 time(s): 20 users (0.0%)\n",
      "  - 5 time(s): 3 users (0.0%)\n",
      "\n",
      "TRANSFER FUNDED:\n",
      "• Total unique users: 18,195\n",
      "• Frequency distribution:\n",
      "  - 1 time(s): 17,130 users (94.1%)\n",
      "  - 2 time(s): 1,040 users (5.7%)\n",
      "  - 3 time(s): 20 users (0.1%)\n",
      "  - 4 time(s): 5 users (0.0%)\n",
      "\n",
      "TRANSFER TRANSFERRED:\n",
      "• Total unique users: 10,557\n",
      "• Frequency distribution:\n",
      "  - 1 time(s): 10,044 users (95.1%)\n",
      "  - 2 time(s): 503 users (4.8%)\n",
      "  - 3 time(s): 10 users (0.1%)\n"
     ]
    },
    {
     "data": {
      "image/png": "[encoded data removed]",
      "text/plain": [
       "<Figure size 1600x1200 with 4 Axes>"
      ]
     },
     "metadata": {},
     "output_type": "display_data"
    },
    {
     "name": "stdout",
     "output_type": "stream",
     "text": [
      "\n",
      "📊 SUMMARY STATISTICS:\n",
      "\n",
      "Transfer Created:\n",
      "  • Mean events per user: 1.07\n",
      "  • Max events by single user: 5\n",
      "  • Users with 1 event: 37,496 (93.2%)\n",
      "  • Users with 2+ events: 2,727 (6.8%)\n",
      "  • Users with 3+ events: 94 (0.2%)\n",
      "\n",
      "Transfer Funded:\n",
      "  • Mean events per user: 1.06\n",
      "  • Max events by single user: 4\n",
      "  • Users with 1 event: 17,130 (94.1%)\n",
      "  • Users with 2+ events: 1,065 (5.9%)\n",
      "  • Users with 3+ events: 25 (0.1%)\n",
      "\n",
      "Transfer Transferred:\n",
      "  • Mean events per user: 1.05\n",
      "  • Max events by single user: 3\n",
      "  • Users with 1 event: 10,044 (95.1%)\n",
      "  • Users with 2+ events: 513 (4.9%)\n",
      "  • Users with 3+ events: 10 (0.1%)\n",
      "\n",
      "🌊 SANKEY DIAGRAM: USER FREQUENCY FLOW\n",
      "==================================================\n",
      "Top 10 User Journey Patterns:\n",
      "Created 1, Funded 0, Transferred 0: 21,491 users\n",
      "Created 1, Funded 1, Transferred 1: 8,836 users\n",
      "Created 1, Funded 1, Transferred 0: 7,169 users\n",
      "Created 2, Funded 1, Transferred 1: 745 users\n",
      "Created 2, Funded 0, Transferred 0: 524 users\n",
      "Created 2, Funded 2, Transferred 2: 477 users\n",
      "Created 2, Funded 2, Transferred 1: 432 users\n",
      "Created 2, Funded 1, Transferred 0: 359 users\n",
      "Created 2, Funded 2, Transferred 0: 96 users\n",
      "Created 3, Funded 2, Transferred 1: 14 users\n"
     ]
    },
    {
     "data": {
      "application/vnd.plotly.v1+json": {
       "config": {
        "plotlyServerURL": "https://plot.ly"
       },
       "data": [
        {
         "link": {
          "source": [
           0,
           5,
           0,
           1,
           5,
           1,
           6,
           1,
           6,
           1,
           1,
           2,
           6,
           2,
           6
          ],
          "target": [
           5,
           10,
           5,
           5,
           10,
           6,
           11,
           6,
           10,
           5,
           6,
           6,
           10,
           6,
           11
          ],
          "value": [
           8836,
           8836,
           7169,
           745,
           745,
           477,
           477,
           432,
           432,
           359,
           96,
           14,
           14,
           11,
           11
          ]
         },
         "node": {
          "color": [
           "orange",
           "orange",
           "orange",
           "orange",
           "orange",
           "green",
           "green",
           "green",
           "green",
           "green",
           "blue",
           "blue",
           "blue",
           "blue",
           "blue"
          ],
          "label": [
           "Created 1",
           "Created 2",
           "Created 3",
           "Created 4",
           "Created 5+",
           "Funded 1",
           "Funded 2",
           "Funded 3",
           "Funded 4",
           "Funded 5+",
           "Transferred 1",
           "Transferred 2",
           "Transferred 3",
           "Transferred 4",
           "Transferred 5+"
          ],
          "line": {
           "color": "black",
           "width": 0.5
          },
          "pad": 15,
          "thickness": 20
         },
         "type": "sankey"
        }
       ],
       "layout": {
        "font": {
         "size": 12
        },
        "height": 600,
        "template": {
         "data": {
          "bar": [
           {
            "error_x": {
             "color": "#2a3f5f"
            },
            "error_y": {
             "color": "#2a3f5f"
            },
            "marker": {
             "line": {
              "color": "#E5ECF6",
              "width": 0.5
             },
             "pattern": {
              "fillmode": "overlay",
              "size": 10,
              "solidity": 0.2
             }
            },
            "type": "bar"
           }
          ],
          "barpolar": [
           {
            "marker": {
             "line": {
              "color": "#E5ECF6",
              "width": 0.5
             },
             "pattern": {
              "fillmode": "overlay",
              "size": 10,
              "solidity": 0.2
             }
            },
            "type": "barpolar"
           }
          ],
          "carpet": [
           {
            "aaxis": {
             "endlinecolor": "#2a3f5f",
             "gridcolor": "white",
             "linecolor": "white",
             "minorgridcolor": "white",
             "startlinecolor": "#2a3f5f"
            },
            "baxis": {
             "endlinecolor": "#2a3f5f",
             "gridcolor": "white",
             "linecolor": "white",
             "minorgridcolor": "white",
             "startlinecolor": "#2a3f5f"
            },
            "type": "carpet"
           }
          ],
          "choropleth": [
           {
            "colorbar": {
             "outlinewidth": 0,
             "ticks": ""
            },
            "type": "choropleth"
           }
          ],
          "contour": [
           {
            "colorbar": {
             "outlinewidth": 0,
             "ticks": ""
            },
            "colorscale": [
             [
              0,
              "#0d0887"
             ],
             [
              0.1111111111111111,
              "#46039f"
             ],
             [
              0.2222222222222222,
              "#7201a8"
             ],
             [
              0.3333333333333333,
              "#9c179e"
             ],
             [
              0.4444444444444444,
              "#bd3786"
             ],
             [
              0.5555555555555556,
              "#d8576b"
             ],
             [
              0.6666666666666666,
              "#ed7953"
             ],
             [
              0.7777777777777778,
              "#fb9f3a"
             ],
             [
              0.8888888888888888,
              "#fdca26"
             ],
             [
              1,
              "#f0f921"
             ]
            ],
            "type": "contour"
           }
          ],
          "contourcarpet": [
           {
            "colorbar": {
             "outlinewidth": 0,
             "ticks": ""
            },
            "type": "contourcarpet"
           }
          ],
          "heatmap": [
           {
            "colorbar": {
             "outlinewidth": 0,
             "ticks": ""
            },
            "colorscale": [
             [
              0,
              "#0d0887"
             ],
             [
              0.1111111111111111,
              "#46039f"
             ],
             [
              0.2222222222222222,
              "#7201a8"
             ],
             [
              0.3333333333333333,
              "#9c179e"
             ],
             [
              0.4444444444444444,
              "#bd3786"
             ],
             [
              0.5555555555555556,
              "#d8576b"
             ],
             [
              0.6666666666666666,
              "#ed7953"
             ],
             [
              0.7777777777777778,
              "#fb9f3a"
             ],
             [
              0.8888888888888888,
              "#fdca26"
             ],
             [
              1,
              "#f0f921"
             ]
            ],
            "type": "heatmap"
           }
          ],
          "histogram": [
           {
            "marker": {
             "pattern": {
              "fillmode": "overlay",
              "size": 10,
              "solidity": 0.2
             }
            },
            "type": "histogram"
           }
          ],
          "histogram2d": [
           {
            "colorbar": {
             "outlinewidth": 0,
             "ticks": ""
            },
            "colorscale": [
             [
              0,
              "#0d0887"
             ],
             [
              0.1111111111111111,
              "#46039f"
             ],
             [
              0.2222222222222222,
              "#7201a8"
             ],
             [
              0.3333333333333333,
              "#9c179e"
             ],
             [
              0.4444444444444444,
              "#bd3786"
             ],
             [
              0.5555555555555556,
              "#d8576b"
             ],
             [
              0.6666666666666666,
              "#ed7953"
             ],
             [
              0.7777777777777778,
              "#fb9f3a"
             ],
             [
              0.8888888888888888,
              "#fdca26"
             ],
             [
              1,
              "#f0f921"
             ]
            ],
            "type": "histogram2d"
           }
          ],
          "histogram2dcontour": [
           {
            "colorbar": {
             "outlinewidth": 0,
             "ticks": ""
            },
            "colorscale": [
             [
              0,
              "#0d0887"
             ],
             [
              0.1111111111111111,
              "#46039f"
             ],
             [
              0.2222222222222222,
              "#7201a8"
             ],
             [
              0.3333333333333333,
              "#9c179e"
             ],
             [
              0.4444444444444444,
              "#bd3786"
             ],
             [
              0.5555555555555556,
              "#d8576b"
             ],
             [
              0.6666666666666666,
              "#ed7953"
             ],
             [
              0.7777777777777778,
              "#fb9f3a"
             ],
             [
              0.8888888888888888,
              "#fdca26"
             ],
             [
              1,
              "#f0f921"
             ]
            ],
            "type": "histogram2dcontour"
           }
          ],
          "mesh3d": [
           {
            "colorbar": {
             "outlinewidth": 0,
             "ticks": ""
            },
            "type": "mesh3d"
           }
          ],
          "parcoords": [
           {
            "line": {
             "colorbar": {
              "outlinewidth": 0,
              "ticks": ""
             }
            },
            "type": "parcoords"
           }
          ],
          "pie": [
           {
            "automargin": true,
            "type": "pie"
           }
          ],
          "scatter": [
           {
            "fillpattern": {
             "fillmode": "overlay",
             "size": 10,
             "solidity": 0.2
            },
            "type": "scatter"
           }
          ],
          "scatter3d": [
           {
            "line": {
             "colorbar": {
              "outlinewidth": 0,
              "ticks": ""
             }
            },
            "marker": {
             "colorbar": {
              "outlinewidth": 0,
              "ticks": ""
             }
            },
            "type": "scatter3d"
           }
          ],
          "scattercarpet": [
           {
            "marker": {
             "colorbar": {
              "outlinewidth": 0,
              "ticks": ""
             }
            },
            "type": "scattercarpet"
           }
          ],
          "scattergeo": [
           {
            "marker": {
             "colorbar": {
              "outlinewidth": 0,
              "ticks": ""
             }
            },
            "type": "scattergeo"
           }
          ],
          "scattergl": [
           {
            "marker": {
             "colorbar": {
              "outlinewidth": 0,
              "ticks": ""
             }
            },
            "type": "scattergl"
           }
          ],
          "scattermap": [
           {
            "marker": {
             "colorbar": {
              "outlinewidth": 0,
              "ticks": ""
             }
            },
            "type": "scattermap"
           }
          ],
          "scattermapbox": [
           {
            "marker": {
             "colorbar": {
              "outlinewidth": 0,
              "ticks": ""
             }
            },
            "type": "scattermapbox"
           }
          ],
          "scatterpolar": [
           {
            "marker": {
             "colorbar": {
              "outlinewidth": 0,
              "ticks": ""
             }
            },
            "type": "scatterpolar"
           }
          ],
          "scatterpolargl": [
           {
            "marker": {
             "colorbar": {
              "outlinewidth": 0,
              "ticks": ""
             }
            },
            "type": "scatterpolargl"
           }
          ],
          "scatterternary": [
           {
            "marker": {
             "colorbar": {
              "outlinewidth": 0,
              "ticks": ""
             }
            },
            "type": "scatterternary"
           }
          ],
          "surface": [
           {
            "colorbar": {
             "outlinewidth": 0,
             "ticks": ""
            },
            "colorscale": [
             [
              0,
              "#0d0887"
             ],
             [
              0.1111111111111111,
              "#46039f"
             ],
             [
              0.2222222222222222,
              "#7201a8"
             ],
             [
              0.3333333333333333,
              "#9c179e"
             ],
             [
              0.4444444444444444,
              "#bd3786"
             ],
             [
              0.5555555555555556,
              "#d8576b"
             ],
             [
              0.6666666666666666,
              "#ed7953"
             ],
             [
              0.7777777777777778,
              "#fb9f3a"
             ],
             [
              0.8888888888888888,
              "#fdca26"
             ],
             [
              1,
              "#f0f921"
             ]
            ],
            "type": "surface"
           }
          ],
          "table": [
           {
            "cells": {
             "fill": {
              "color": "#EBF0F8"
             },
             "line": {
              "color": "white"
             }
            },
            "header": {
             "fill": {
              "color": "#C8D4E3"
             },
             "line": {
              "color": "white"
             }
            },
            "type": "table"
           }
          ]
         },
         "layout": {
          "annotationdefaults": {
           "arrowcolor": "#2a3f5f",
           "arrowhead": 0,
           "arrowwidth": 1
          },
          "autotypenumbers": "strict",
          "coloraxis": {
           "colorbar": {
            "outlinewidth": 0,
            "ticks": ""
           }
          },
          "colorscale": {
           "diverging": [
            [
             0,
             "#8e0152"
            ],
            [
             0.1,
             "#c51b7d"
            ],
            [
             0.2,
             "#de77ae"
            ],
            [
             0.3,
             "#f1b6da"
            ],
            [
             0.4,
             "#fde0ef"
            ],
            [
             0.5,
             "#f7f7f7"
            ],
            [
             0.6,
             "#e6f5d0"
            ],
            [
             0.7,
             "#b8e186"
            ],
            [
             0.8,
             "#7fbc41"
            ],
            [
             0.9,
             "#4d9221"
            ],
            [
             1,
             "#276419"
            ]
           ],
           "sequential": [
            [
             0,
             "#0d0887"
            ],
            [
             0.1111111111111111,
             "#46039f"
            ],
            [
             0.2222222222222222,
             "#7201a8"
            ],
            [
             0.3333333333333333,
             "#9c179e"
            ],
            [
             0.4444444444444444,
             "#bd3786"
            ],
            [
             0.5555555555555556,
             "#d8576b"
            ],
            [
             0.6666666666666666,
             "#ed7953"
            ],
            [
             0.7777777777777778,
             "#fb9f3a"
            ],
            [
             0.8888888888888888,
             "#fdca26"
            ],
            [
             1,
             "#f0f921"
            ]
           ],
           "sequentialminus": [
            [
             0,
             "#0d0887"
            ],
            [
             0.1111111111111111,
             "#46039f"
            ],
            [
             0.2222222222222222,
             "#7201a8"
            ],
            [
             0.3333333333333333,
             "#9c179e"
            ],
            [
             0.4444444444444444,
             "#bd3786"
            ],
            [
             0.5555555555555556,
             "#d8576b"
            ],
            [
             0.6666666666666666,
             "#ed7953"
            ],
            [
             0.7777777777777778,
             "#fb9f3a"
            ],
            [
             0.8888888888888888,
             "#fdca26"
            ],
            [
             1,
             "#f0f921"
            ]
           ]
          },
          "colorway": [
           "#636efa",
           "#EF553B",
           "#00cc96",
           "#ab63fa",
           "#FFA15A",
           "#19d3f3",
           "#FF6692",
           "#B6E880",
           "#FF97FF",
           "#FECB52"
          ],
          "font": {
           "color": "#2a3f5f"
          },
          "geo": {
           "bgcolor": "white",
           "lakecolor": "white",
           "landcolor": "#E5ECF6",
           "showlakes": true,
           "showland": true,
           "subunitcolor": "white"
          },
          "hoverlabel": {
           "align": "left"
          },
          "hovermode": "closest",
          "mapbox": {
           "style": "light"
          },
          "paper_bgcolor": "white",
          "plot_bgcolor": "#E5ECF6",
          "polar": {
           "angularaxis": {
            "gridcolor": "white",
            "linecolor": "white",
            "ticks": ""
           },
           "bgcolor": "#E5ECF6",
           "radialaxis": {
            "gridcolor": "white",
            "linecolor": "white",
            "ticks": ""
           }
          },
          "scene": {
           "xaxis": {
            "backgroundcolor": "#E5ECF6",
            "gridcolor": "white",
            "gridwidth": 2,
            "linecolor": "white",
            "showbackground": true,
            "ticks": "",
            "zerolinecolor": "white"
           },
           "yaxis": {
            "backgroundcolor": "#E5ECF6",
            "gridcolor": "white",
            "gridwidth": 2,
            "linecolor": "white",
            "showbackground": true,
            "ticks": "",
            "zerolinecolor": "white"
           },
           "zaxis": {
            "backgroundcolor": "#E5ECF6",
            "gridcolor": "white",
            "gridwidth": 2,
            "linecolor": "white",
            "showbackground": true,
            "ticks": "",
            "zerolinecolor": "white"
           }
          },
          "shapedefaults": {
           "line": {
            "color": "#2a3f5f"
           }
          },
          "ternary": {
           "aaxis": {
            "gridcolor": "white",
            "linecolor": "white",
            "ticks": ""
           },
           "baxis": {
            "gridcolor": "white",
            "linecolor": "white",
            "ticks": ""
           },
           "bgcolor": "#E5ECF6",
           "caxis": {
            "gridcolor": "white",
            "linecolor": "white",
            "ticks": ""
           }
          },
          "title": {
           "x": 0.05
          },
          "xaxis": {
           "automargin": true,
           "gridcolor": "white",
           "linecolor": "white",
           "ticks": "",
           "title": {
            "standoff": 15
           },
           "zerolinecolor": "white",
           "zerolinewidth": 2
          },
          "yaxis": {
           "automargin": true,
           "gridcolor": "white",
           "linecolor": "white",
           "ticks": "",
           "title": {
            "standoff": 15
           },
           "zerolinecolor": "white",
           "zerolinewidth": 2
          }
         }
        },
        "title": {
         "text": "User Journey Frequency Flow: Created → Funded → Transferred"
        },
        "width": 1200
       }
      },
      "text/html": [
       "<div>            <script src=\"https://cdnjs.cloudflare.com/ajax/libs/mathjax/2.7.5/MathJax.js?config=TeX-AMS-MML_SVG\"></script><script type=\"text/javascript\">if (window.MathJax && window.MathJax.Hub && window.MathJax.Hub.Config) {window.MathJax.Hub.Config({SVG: {font: \"STIX-Web\"}});}</script>                <script type=\"text/javascript\">window.PlotlyConfig = {MathJaxConfig: 'local'};</script>\n",
       "        <script charset=\"utf-8\" src=\"https://cdn.plot.ly/plotly-3.0.1.min.js\" integrity=\"sha256-oy6Be7Eh6eiQFs5M7oXuPxxm9qbJXEtTpfSI93dW16Q=\" crossorigin=\"anonymous\"></script>                <div id=\"14109096-80aa-44b2-aaca-e697a141e78f\" class=\"plotly-graph-div\" style=\"height:600px; width:1200px;\"></div>            <script type=\"text/javascript\">                window.PLOTLYENV=window.PLOTLYENV || {};                                if (document.getElementById(\"14109096-80aa-44b2-aaca-e697a141e78f\")) {                    Plotly.newPlot(                        \"14109096-80aa-44b2-aaca-e697a141e78f\",                        [{\"link\":{\"source\":[0,5,0,1,5,1,6,1,6,1,1,2,6,2,6],\"target\":[5,10,5,5,10,6,11,6,10,5,6,6,10,6,11],\"value\":[8836,8836,7169,745,745,477,477,432,432,359,96,14,14,11,11]},\"node\":{\"color\":[\"orange\",\"orange\",\"orange\",\"orange\",\"orange\",\"green\",\"green\",\"green\",\"green\",\"green\",\"blue\",\"blue\",\"blue\",\"blue\",\"blue\"],\"label\":[\"Created 1\",\"Created 2\",\"Created 3\",\"Created 4\",\"Created 5+\",\"Funded 1\",\"Funded 2\",\"Funded 3\",\"Funded 4\",\"Funded 5+\",\"Transferred 1\",\"Transferred 2\",\"Transferred 3\",\"Transferred 4\",\"Transferred 5+\"],\"line\":{\"color\":\"black\",\"width\":0.5},\"pad\":15,\"thickness\":20},\"type\":\"sankey\"}],                        {\"template\":{\"data\":{\"histogram2dcontour\":[{\"type\":\"histogram2dcontour\",\"colorbar\":{\"outlinewidth\":0,\"ticks\":\"\"},\"colorscale\":[[0.0,\"#0d0887\"],[0.1111111111111111,\"#46039f\"],[0.2222222222222222,\"#7201a8\"],[0.3333333333333333,\"#9c179e\"],[0.4444444444444444,\"#bd3786\"],[0.5555555555555556,\"#d8576b\"],[0.6666666666666666,\"#ed7953\"],[0.7777777777777778,\"#fb9f3a\"],[0.8888888888888888,\"#fdca26\"],[1.0,\"#f0f921\"]]}],\"choropleth\":[{\"type\":\"choropleth\",\"colorbar\":{\"outlinewidth\":0,\"ticks\":\"\"}}],\"histogram2d\":[{\"type\":\"histogram2d\",\"colorbar\":{\"outlinewidth\":0,\"ticks\":\"\"},\"colorscale\":[[0.0,\"#0d0887\"],[0.1111111111111111,\"#46039f\"],[0.2222222222222222,\"#7201a8\"],[0.3333333333333333,\"#9c179e\"],[0.4444444444444444,\"#bd3786\"],[0.5555555555555556,\"#d8576b\"],[0.6666666666666666,\"#ed7953\"],[0.7777777777777778,\"#fb9f3a\"],[0.8888888888888888,\"#fdca26\"],[1.0,\"#f0f921\"]]}],\"heatmap\":[{\"type\":\"heatmap\",\"colorbar\":{\"outlinewidth\":0,\"ticks\":\"\"},\"colorscale\":[[0.0,\"#0d0887\"],[0.1111111111111111,\"#46039f\"],[0.2222222222222222,\"#7201a8\"],[0.3333333333333333,\"#9c179e\"],[0.4444444444444444,\"#bd3786\"],[0.5555555555555556,\"#d8576b\"],[0.6666666666666666,\"#ed7953\"],[0.7777777777777778,\"#fb9f3a\"],[0.8888888888888888,\"#fdca26\"],[1.0,\"#f0f921\"]]}],\"contourcarpet\":[{\"type\":\"contourcarpet\",\"colorbar\":{\"outlinewidth\":0,\"ticks\":\"\"}}],\"contour\":[{\"type\":\"contour\",\"colorbar\":{\"outlinewidth\":0,\"ticks\":\"\"},\"colorscale\":[[0.0,\"#0d0887\"],[0.1111111111111111,\"#46039f\"],[0.2222222222222222,\"#7201a8\"],[0.3333333333333333,\"#9c179e\"],[0.4444444444444444,\"#bd3786\"],[0.5555555555555556,\"#d8576b\"],[0.6666666666666666,\"#ed7953\"],[0.7777777777777778,\"#fb9f3a\"],[0.8888888888888888,\"#fdca26\"],[1.0,\"#f0f921\"]]}],\"surface\":[{\"type\":\"surface\",\"colorbar\":{\"outlinewidth\":0,\"ticks\":\"\"},\"colorscale\":[[0.0,\"#0d0887\"],[0.1111111111111111,\"#46039f\"],[0.2222222222222222,\"#7201a8\"],[0.3333333333333333,\"#9c179e\"],[0.4444444444444444,\"#bd3786\"],[0.5555555555555556,\"#d8576b\"],[0.6666666666666666,\"#ed7953\"],[0.7777777777777778,\"#fb9f3a\"],[0.8888888888888888,\"#fdca26\"],[1.0,\"#f0f921\"]]}],\"mesh3d\":[{\"type\":\"mesh3d\",\"colorbar\":{\"outlinewidth\":0,\"ticks\":\"\"}}],\"scatter\":[{\"fillpattern\":{\"fillmode\":\"overlay\",\"size\":10,\"solidity\":0.2},\"type\":\"scatter\"}],\"parcoords\":[{\"type\":\"parcoords\",\"line\":{\"colorbar\":{\"outlinewidth\":0,\"ticks\":\"\"}}}],\"scatterpolargl\":[{\"type\":\"scatterpolargl\",\"marker\":{\"colorbar\":{\"outlinewidth\":0,\"ticks\":\"\"}}}],\"bar\":[{\"error_x\":{\"color\":\"#2a3f5f\"},\"error_y\":{\"color\":\"#2a3f5f\"},\"marker\":{\"line\":{\"color\":\"#E5ECF6\",\"width\":0.5},\"pattern\":{\"fillmode\":\"overlay\",\"size\":10,\"solidity\":0.2}},\"type\":\"bar\"}],\"scattergeo\":[{\"type\":\"scattergeo\",\"marker\":{\"colorbar\":{\"outlinewidth\":0,\"ticks\":\"\"}}}],\"scatterpolar\":[{\"type\":\"scatterpolar\",\"marker\":{\"colorbar\":{\"outlinewidth\":0,\"ticks\":\"\"}}}],\"histogram\":[{\"marker\":{\"pattern\":{\"fillmode\":\"overlay\",\"size\":10,\"solidity\":0.2}},\"type\":\"histogram\"}],\"scattergl\":[{\"type\":\"scattergl\",\"marker\":{\"colorbar\":{\"outlinewidth\":0,\"ticks\":\"\"}}}],\"scatter3d\":[{\"type\":\"scatter3d\",\"line\":{\"colorbar\":{\"outlinewidth\":0,\"ticks\":\"\"}},\"marker\":{\"colorbar\":{\"outlinewidth\":0,\"ticks\":\"\"}}}],\"scattermap\":[{\"type\":\"scattermap\",\"marker\":{\"colorbar\":{\"outlinewidth\":0,\"ticks\":\"\"}}}],\"scattermapbox\":[{\"type\":\"scattermapbox\",\"marker\":{\"colorbar\":{\"outlinewidth\":0,\"ticks\":\"\"}}}],\"scatterternary\":[{\"type\":\"scatterternary\",\"marker\":{\"colorbar\":{\"outlinewidth\":0,\"ticks\":\"\"}}}],\"scattercarpet\":[{\"type\":\"scattercarpet\",\"marker\":{\"colorbar\":{\"outlinewidth\":0,\"ticks\":\"\"}}}],\"carpet\":[{\"aaxis\":{\"endlinecolor\":\"#2a3f5f\",\"gridcolor\":\"white\",\"linecolor\":\"white\",\"minorgridcolor\":\"white\",\"startlinecolor\":\"#2a3f5f\"},\"baxis\":{\"endlinecolor\":\"#2a3f5f\",\"gridcolor\":\"white\",\"linecolor\":\"white\",\"minorgridcolor\":\"white\",\"startlinecolor\":\"#2a3f5f\"},\"type\":\"carpet\"}],\"table\":[{\"cells\":{\"fill\":{\"color\":\"#EBF0F8\"},\"line\":{\"color\":\"white\"}},\"header\":{\"fill\":{\"color\":\"#C8D4E3\"},\"line\":{\"color\":\"white\"}},\"type\":\"table\"}],\"barpolar\":[{\"marker\":{\"line\":{\"color\":\"#E5ECF6\",\"width\":0.5},\"pattern\":{\"fillmode\":\"overlay\",\"size\":10,\"solidity\":0.2}},\"type\":\"barpolar\"}],\"pie\":[{\"automargin\":true,\"type\":\"pie\"}]},\"layout\":{\"autotypenumbers\":\"strict\",\"colorway\":[\"#636efa\",\"#EF553B\",\"#00cc96\",\"#ab63fa\",\"#FFA15A\",\"#19d3f3\",\"#FF6692\",\"#B6E880\",\"#FF97FF\",\"#FECB52\"],\"font\":{\"color\":\"#2a3f5f\"},\"hovermode\":\"closest\",\"hoverlabel\":{\"align\":\"left\"},\"paper_bgcolor\":\"white\",\"plot_bgcolor\":\"#E5ECF6\",\"polar\":{\"bgcolor\":\"#E5ECF6\",\"angularaxis\":{\"gridcolor\":\"white\",\"linecolor\":\"white\",\"ticks\":\"\"},\"radialaxis\":{\"gridcolor\":\"white\",\"linecolor\":\"white\",\"ticks\":\"\"}},\"ternary\":{\"bgcolor\":\"#E5ECF6\",\"aaxis\":{\"gridcolor\":\"white\",\"linecolor\":\"white\",\"ticks\":\"\"},\"baxis\":{\"gridcolor\":\"white\",\"linecolor\":\"white\",\"ticks\":\"\"},\"caxis\":{\"gridcolor\":\"white\",\"linecolor\":\"white\",\"ticks\":\"\"}},\"coloraxis\":{\"colorbar\":{\"outlinewidth\":0,\"ticks\":\"\"}},\"colorscale\":{\"sequential\":[[0.0,\"#0d0887\"],[0.1111111111111111,\"#46039f\"],[0.2222222222222222,\"#7201a8\"],[0.3333333333333333,\"#9c179e\"],[0.4444444444444444,\"#bd3786\"],[0.5555555555555556,\"#d8576b\"],[0.6666666666666666,\"#ed7953\"],[0.7777777777777778,\"#fb9f3a\"],[0.8888888888888888,\"#fdca26\"],[1.0,\"#f0f921\"]],\"sequentialminus\":[[0.0,\"#0d0887\"],[0.1111111111111111,\"#46039f\"],[0.2222222222222222,\"#7201a8\"],[0.3333333333333333,\"#9c179e\"],[0.4444444444444444,\"#bd3786\"],[0.5555555555555556,\"#d8576b\"],[0.6666666666666666,\"#ed7953\"],[0.7777777777777778,\"#fb9f3a\"],[0.8888888888888888,\"#fdca26\"],[1.0,\"#f0f921\"]],\"diverging\":[[0,\"#8e0152\"],[0.1,\"#c51b7d\"],[0.2,\"#de77ae\"],[0.3,\"#f1b6da\"],[0.4,\"#fde0ef\"],[0.5,\"#f7f7f7\"],[0.6,\"#e6f5d0\"],[0.7,\"#b8e186\"],[0.8,\"#7fbc41\"],[0.9,\"#4d9221\"],[1,\"#276419\"]]},\"xaxis\":{\"gridcolor\":\"white\",\"linecolor\":\"white\",\"ticks\":\"\",\"title\":{\"standoff\":15},\"zerolinecolor\":\"white\",\"automargin\":true,\"zerolinewidth\":2},\"yaxis\":{\"gridcolor\":\"white\",\"linecolor\":\"white\",\"ticks\":\"\",\"title\":{\"standoff\":15},\"zerolinecolor\":\"white\",\"automargin\":true,\"zerolinewidth\":2},\"scene\":{\"xaxis\":{\"backgroundcolor\":\"#E5ECF6\",\"gridcolor\":\"white\",\"linecolor\":\"white\",\"showbackground\":true,\"ticks\":\"\",\"zerolinecolor\":\"white\",\"gridwidth\":2},\"yaxis\":{\"backgroundcolor\":\"#E5ECF6\",\"gridcolor\":\"white\",\"linecolor\":\"white\",\"showbackground\":true,\"ticks\":\"\",\"zerolinecolor\":\"white\",\"gridwidth\":2},\"zaxis\":{\"backgroundcolor\":\"#E5ECF6\",\"gridcolor\":\"white\",\"linecolor\":\"white\",\"showbackground\":true,\"ticks\":\"\",\"zerolinecolor\":\"white\",\"gridwidth\":2}},\"shapedefaults\":{\"line\":{\"color\":\"#2a3f5f\"}},\"annotationdefaults\":{\"arrowcolor\":\"#2a3f5f\",\"arrowhead\":0,\"arrowwidth\":1},\"geo\":{\"bgcolor\":\"white\",\"landcolor\":\"#E5ECF6\",\"subunitcolor\":\"white\",\"showland\":true,\"showlakes\":true,\"lakecolor\":\"white\"},\"title\":{\"x\":0.05},\"mapbox\":{\"style\":\"light\"}}},\"title\":{\"text\":\"User Journey Frequency Flow: Created → Funded → Transferred\"},\"font\":{\"size\":12},\"width\":1200,\"height\":600},                        {\"responsive\": true}                    ).then(function(){\n",
       "                            \n",
       "var gd = document.getElementById('14109096-80aa-44b2-aaca-e697a141e78f');\n",
       "var x = new MutationObserver(function (mutations, observer) {{\n",
       "        var display = window.getComputedStyle(gd).display;\n",
       "        if (!display || display === 'none') {{\n",
       "            console.log([gd, 'removed!']);\n",
       "            Plotly.purge(gd);\n",
       "            observer.disconnect();\n",
       "        }}\n",
       "}});\n",
       "\n",
       "// Listen for the removal of the full notebook cells\n",
       "var notebookContainer = gd.closest('#notebook-container');\n",
       "if (notebookContainer) {{\n",
       "    x.observe(notebookContainer, {childList: true});\n",
       "}}\n",
       "\n",
       "// Listen for the clearing of the current output cell\n",
       "var outputEl = gd.closest('.output');\n",
       "if (outputEl) {{\n",
       "    x.observe(outputEl, {childList: true});\n",
       "}}\n",
       "\n",
       "                        })                };            </script>        </div>"
      ]
     },
     "metadata": {},
     "output_type": "display_data"
    },
    {
     "name": "stdout",
     "output_type": "stream",
     "text": [
      "\n",
      "📊 Flow Summary:\n",
      "• Total flows shown: 15\n",
      "• Minimum flow size: 10 users\n",
      "• Largest single flow: 8,836 users\n",
      "🌊 ADVANCED SANKEY: Experience → Platform → Region → Retries\n",
      "======================================================================\n",
      "📊 RETRY CATEGORIES:\n",
      "• Failed All: 29,666 users (73.8%)\n",
      "• Perfect Success: 9,317 users (23.2%)\n",
      "• Low Retries: 1,207 users (3.0%)\n",
      "• Medium Retries: 27 users (0.1%)\n",
      "• High Retries: 6 users (0.0%)\n",
      "\n",
      "🌊 FLOW PATTERNS (min 5 users):\n",
      "Total significant flow patterns: 56\n"
     ]
    },
    {
     "data": {
      "application/vnd.plotly.v1+json": {
       "config": {
        "plotlyServerURL": "https://plot.ly"
       },
       "data": [
        {
         "link": {
          "source": [
           0,
           4,
           6,
           0,
           4,
           6,
           0,
           4,
           6,
           0,
           4,
           5,
           0,
           4,
           5,
           0,
           4,
           5,
           0,
           4,
           7,
           0,
           4,
           7,
           0,
           4,
           7,
           0,
           3,
           6,
           0,
           3,
           6,
           0,
           3,
           6,
           0,
           3,
           5,
           0,
           3,
           5,
           0,
           3,
           5,
           0,
           3,
           5,
           0,
           3,
           7,
           0,
           3,
           7,
           0,
           3,
           7,
           0,
           2,
           6,
           0,
           2,
           6,
           0,
           2,
           6,
           0,
           2,
           5,
           0,
           2,
           5,
           0,
           2,
           5,
           0,
           2,
           7,
           0,
           2,
           7,
           0,
           2,
           7,
           1,
           4,
           6,
           1,
           4,
           6,
           1,
           4,
           6,
           1,
           4,
           5,
           1,
           4,
           5,
           1,
           4,
           5,
           1,
           4,
           7,
           1,
           4,
           7,
           1,
           4,
           7,
           1,
           4,
           7,
           1,
           3,
           6,
           1,
           3,
           6,
           1,
           3,
           6,
           1,
           3,
           5,
           1,
           3,
           5,
           1,
           3,
           5,
           1,
           3,
           7,
           1,
           3,
           7,
           1,
           3,
           7,
           1,
           2,
           6,
           1,
           2,
           6,
           1,
           2,
           6,
           1,
           2,
           5,
           1,
           2,
           5,
           1,
           2,
           5,
           1,
           2,
           7,
           1,
           2,
           7,
           1,
           2,
           7
          ],
          "target": [
           4,
           6,
           8,
           4,
           6,
           9,
           4,
           6,
           11,
           4,
           5,
           8,
           4,
           5,
           9,
           4,
           5,
           11,
           4,
           7,
           8,
           4,
           7,
           9,
           4,
           7,
           11,
           3,
           6,
           8,
           3,
           6,
           9,
           3,
           6,
           11,
           3,
           5,
           8,
           3,
           5,
           9,
           3,
           5,
           10,
           3,
           5,
           11,
           3,
           7,
           8,
           3,
           7,
           9,
           3,
           7,
           11,
           2,
           6,
           8,
           2,
           6,
           9,
           2,
           6,
           11,
           2,
           5,
           8,
           2,
           5,
           9,
           2,
           5,
           11,
           2,
           7,
           8,
           2,
           7,
           9,
           2,
           7,
           11,
           4,
           6,
           8,
           4,
           6,
           9,
           4,
           6,
           11,
           4,
           5,
           8,
           4,
           5,
           9,
           4,
           5,
           11,
           4,
           7,
           8,
           4,
           7,
           9,
           4,
           7,
           10,
           4,
           7,
           11,
           3,
           6,
           8,
           3,
           6,
           9,
           3,
           6,
           11,
           3,
           5,
           8,
           3,
           5,
           9,
           3,
           5,
           11,
           3,
           7,
           8,
           3,
           7,
           9,
           3,
           7,
           11,
           2,
           6,
           8,
           2,
           6,
           9,
           2,
           6,
           11,
           2,
           5,
           8,
           2,
           5,
           9,
           2,
           5,
           11,
           2,
           7,
           8,
           2,
           7,
           9,
           2,
           7,
           11
          ],
          "value": [
           1721,
           1721,
           1721,
           116,
           116,
           116,
           998,
           998,
           998,
           629,
           629,
           629,
           62,
           62,
           62,
           350,
           350,
           350,
           944,
           944,
           944,
           39,
           39,
           39,
           473,
           473,
           473,
           953,
           953,
           953,
           45,
           45,
           45,
           415,
           415,
           415,
           1375,
           1375,
           1375,
           152,
           152,
           152,
           5,
           5,
           5,
           619,
           619,
           619,
           610,
           610,
           610,
           25,
           25,
           25,
           247,
           247,
           247,
           1597,
           1597,
           1597,
           109,
           109,
           109,
           1037,
           1037,
           1037,
           1160,
           1160,
           1160,
           146,
           146,
           146,
           772,
           772,
           772,
           392,
           392,
           392,
           14,
           14,
           14,
           201,
           201,
           201,
           3269,
           3269,
           3269,
           21,
           21,
           21,
           50,
           50,
           50,
           592,
           592,
           592,
           36,
           36,
           36,
           166,
           166,
           166,
           4964,
           4964,
           4964,
           124,
           124,
           124,
           8,
           8,
           8,
           1184,
           1184,
           1184,
           1386,
           1386,
           1386,
           16,
           16,
           16,
           279,
           279,
           279,
           1282,
           1282,
           1282,
           64,
           64,
           64,
           266,
           266,
           266,
           3101,
           3101,
           3101,
           76,
           76,
           76,
           601,
           601,
           601,
           2591,
           2591,
           2591,
           43,
           43,
           43,
           767,
           767,
           767,
           1168,
           1168,
           1168,
           61,
           61,
           61,
           359,
           359,
           359,
           1932,
           1932,
           1932,
           58,
           58,
           58,
           533,
           533,
           533
          ]
         },
         "node": {
          "color": [
           "lightcoral",
           "lightblue",
           "lightgreen",
           "orange",
           "purple",
           "brown",
           "red",
           "yellow",
           "green",
           "pink",
           "gray"
          ],
          "label": [
           "Experience: Existing",
           "Experience: New",
           "Platform: iOS",
           "Platform: Web",
           "Platform: Android",
           "Region: NorthAm",
           "Region: Europe",
           "Region: Other",
           "Result: Failed All",
           "Result: Low Retries",
           "Result: Medium Retries",
           "Result: Perfect Success",
           "Result: High Retries"
          ],
          "line": {
           "color": "black",
           "width": 0.5
          },
          "pad": 15,
          "thickness": 20
         },
         "type": "sankey"
        }
       ],
       "layout": {
        "font": {
         "size": 10
        },
        "height": 800,
        "template": {
         "data": {
          "bar": [
           {
            "error_x": {
             "color": "#2a3f5f"
            },
            "error_y": {
             "color": "#2a3f5f"
            },
            "marker": {
             "line": {
              "color": "#E5ECF6",
              "width": 0.5
             },
             "pattern": {
              "fillmode": "overlay",
              "size": 10,
              "solidity": 0.2
             }
            },
            "type": "bar"
           }
          ],
          "barpolar": [
           {
            "marker": {
             "line": {
              "color": "#E5ECF6",
              "width": 0.5
             },
             "pattern": {
              "fillmode": "overlay",
              "size": 10,
              "solidity": 0.2
             }
            },
            "type": "barpolar"
           }
          ],
          "carpet": [
           {
            "aaxis": {
             "endlinecolor": "#2a3f5f",
             "gridcolor": "white",
             "linecolor": "white",
             "minorgridcolor": "white",
             "startlinecolor": "#2a3f5f"
            },
            "baxis": {
             "endlinecolor": "#2a3f5f",
             "gridcolor": "white",
             "linecolor": "white",
             "minorgridcolor": "white",
             "startlinecolor": "#2a3f5f"
            },
            "type": "carpet"
           }
          ],
          "choropleth": [
           {
            "colorbar": {
             "outlinewidth": 0,
             "ticks": ""
            },
            "type": "choropleth"
           }
          ],
          "contour": [
           {
            "colorbar": {
             "outlinewidth": 0,
             "ticks": ""
            },
            "colorscale": [
             [
              0,
              "#0d0887"
             ],
             [
              0.1111111111111111,
              "#46039f"
             ],
             [
              0.2222222222222222,
              "#7201a8"
             ],
             [
              0.3333333333333333,
              "#9c179e"
             ],
             [
              0.4444444444444444,
              "#bd3786"
             ],
             [
              0.5555555555555556,
              "#d8576b"
             ],
             [
              0.6666666666666666,
              "#ed7953"
             ],
             [
              0.7777777777777778,
              "#fb9f3a"
             ],
             [
              0.8888888888888888,
              "#fdca26"
             ],
             [
              1,
              "#f0f921"
             ]
            ],
            "type": "contour"
           }
          ],
          "contourcarpet": [
           {
            "colorbar": {
             "outlinewidth": 0,
             "ticks": ""
            },
            "type": "contourcarpet"
           }
          ],
          "heatmap": [
           {
            "colorbar": {
             "outlinewidth": 0,
             "ticks": ""
            },
            "colorscale": [
             [
              0,
              "#0d0887"
             ],
             [
              0.1111111111111111,
              "#46039f"
             ],
             [
              0.2222222222222222,
              "#7201a8"
             ],
             [
              0.3333333333333333,
              "#9c179e"
             ],
             [
              0.4444444444444444,
              "#bd3786"
             ],
             [
              0.5555555555555556,
              "#d8576b"
             ],
             [
              0.6666666666666666,
              "#ed7953"
             ],
             [
              0.7777777777777778,
              "#fb9f3a"
             ],
             [
              0.8888888888888888,
              "#fdca26"
             ],
             [
              1,
              "#f0f921"
             ]
            ],
            "type": "heatmap"
           }
          ],
          "histogram": [
           {
            "marker": {
             "pattern": {
              "fillmode": "overlay",
              "size": 10,
              "solidity": 0.2
             }
            },
            "type": "histogram"
           }
          ],
          "histogram2d": [
           {
            "colorbar": {
             "outlinewidth": 0,
             "ticks": ""
            },
            "colorscale": [
             [
              0,
              "#0d0887"
             ],
             [
              0.1111111111111111,
              "#46039f"
             ],
             [
              0.2222222222222222,
              "#7201a8"
             ],
             [
              0.3333333333333333,
              "#9c179e"
             ],
             [
              0.4444444444444444,
              "#bd3786"
             ],
             [
              0.5555555555555556,
              "#d8576b"
             ],
             [
              0.6666666666666666,
              "#ed7953"
             ],
             [
              0.7777777777777778,
              "#fb9f3a"
             ],
             [
              0.8888888888888888,
              "#fdca26"
             ],
             [
              1,
              "#f0f921"
             ]
            ],
            "type": "histogram2d"
           }
          ],
          "histogram2dcontour": [
           {
            "colorbar": {
             "outlinewidth": 0,
             "ticks": ""
            },
            "colorscale": [
             [
              0,
              "#0d0887"
             ],
             [
              0.1111111111111111,
              "#46039f"
             ],
             [
              0.2222222222222222,
              "#7201a8"
             ],
             [
              0.3333333333333333,
              "#9c179e"
             ],
             [
              0.4444444444444444,
              "#bd3786"
             ],
             [
              0.5555555555555556,
              "#d8576b"
             ],
             [
              0.6666666666666666,
              "#ed7953"
             ],
             [
              0.7777777777777778,
              "#fb9f3a"
             ],
             [
              0.8888888888888888,
              "#fdca26"
             ],
             [
              1,
              "#f0f921"
             ]
            ],
            "type": "histogram2dcontour"
           }
          ],
          "mesh3d": [
           {
            "colorbar": {
             "outlinewidth": 0,
             "ticks": ""
            },
            "type": "mesh3d"
           }
          ],
          "parcoords": [
           {
            "line": {
             "colorbar": {
              "outlinewidth": 0,
              "ticks": ""
             }
            },
            "type": "parcoords"
           }
          ],
          "pie": [
           {
            "automargin": true,
            "type": "pie"
           }
          ],
          "scatter": [
           {
            "fillpattern": {
             "fillmode": "overlay",
             "size": 10,
             "solidity": 0.2
            },
            "type": "scatter"
           }
          ],
          "scatter3d": [
           {
            "line": {
             "colorbar": {
              "outlinewidth": 0,
              "ticks": ""
             }
            },
            "marker": {
             "colorbar": {
              "outlinewidth": 0,
              "ticks": ""
             }
            },
            "type": "scatter3d"
           }
          ],
          "scattercarpet": [
           {
            "marker": {
             "colorbar": {
              "outlinewidth": 0,
              "ticks": ""
             }
            },
            "type": "scattercarpet"
           }
          ],
          "scattergeo": [
           {
            "marker": {
             "colorbar": {
              "outlinewidth": 0,
              "ticks": ""
             }
            },
            "type": "scattergeo"
           }
          ],
          "scattergl": [
           {
            "marker": {
             "colorbar": {
              "outlinewidth": 0,
              "ticks": ""
             }
            },
            "type": "scattergl"
           }
          ],
          "scattermap": [
           {
            "marker": {
             "colorbar": {
              "outlinewidth": 0,
              "ticks": ""
             }
            },
            "type": "scattermap"
           }
          ],
          "scattermapbox": [
           {
            "marker": {
             "colorbar": {
              "outlinewidth": 0,
              "ticks": ""
             }
            },
            "type": "scattermapbox"
           }
          ],
          "scatterpolar": [
           {
            "marker": {
             "colorbar": {
              "outlinewidth": 0,
              "ticks": ""
             }
            },
            "type": "scatterpolar"
           }
          ],
          "scatterpolargl": [
           {
            "marker": {
             "colorbar": {
              "outlinewidth": 0,
              "ticks": ""
             }
            },
            "type": "scatterpolargl"
           }
          ],
          "scatterternary": [
           {
            "marker": {
             "colorbar": {
              "outlinewidth": 0,
              "ticks": ""
             }
            },
            "type": "scatterternary"
           }
          ],
          "surface": [
           {
            "colorbar": {
             "outlinewidth": 0,
             "ticks": ""
            },
            "colorscale": [
             [
              0,
              "#0d0887"
             ],
             [
              0.1111111111111111,
              "#46039f"
             ],
             [
              0.2222222222222222,
              "#7201a8"
             ],
             [
              0.3333333333333333,
              "#9c179e"
             ],
             [
              0.4444444444444444,
              "#bd3786"
             ],
             [
              0.5555555555555556,
              "#d8576b"
             ],
             [
              0.6666666666666666,
              "#ed7953"
             ],
             [
              0.7777777777777778,
              "#fb9f3a"
             ],
             [
              0.8888888888888888,
              "#fdca26"
             ],
             [
              1,
              "#f0f921"
             ]
            ],
            "type": "surface"
           }
          ],
          "table": [
           {
            "cells": {
             "fill": {
              "color": "#EBF0F8"
             },
             "line": {
              "color": "white"
             }
            },
            "header": {
             "fill": {
              "color": "#C8D4E3"
             },
             "line": {
              "color": "white"
             }
            },
            "type": "table"
           }
          ]
         },
         "layout": {
          "annotationdefaults": {
           "arrowcolor": "#2a3f5f",
           "arrowhead": 0,
           "arrowwidth": 1
          },
          "autotypenumbers": "strict",
          "coloraxis": {
           "colorbar": {
            "outlinewidth": 0,
            "ticks": ""
           }
          },
          "colorscale": {
           "diverging": [
            [
             0,
             "#8e0152"
            ],
            [
             0.1,
             "#c51b7d"
            ],
            [
             0.2,
             "#de77ae"
            ],
            [
             0.3,
             "#f1b6da"
            ],
            [
             0.4,
             "#fde0ef"
            ],
            [
             0.5,
             "#f7f7f7"
            ],
            [
             0.6,
             "#e6f5d0"
            ],
            [
             0.7,
             "#b8e186"
            ],
            [
             0.8,
             "#7fbc41"
            ],
            [
             0.9,
             "#4d9221"
            ],
            [
             1,
             "#276419"
            ]
           ],
           "sequential": [
            [
             0,
             "#0d0887"
            ],
            [
             0.1111111111111111,
             "#46039f"
            ],
            [
             0.2222222222222222,
             "#7201a8"
            ],
            [
             0.3333333333333333,
             "#9c179e"
            ],
            [
             0.4444444444444444,
             "#bd3786"
            ],
            [
             0.5555555555555556,
             "#d8576b"
            ],
            [
             0.6666666666666666,
             "#ed7953"
            ],
            [
             0.7777777777777778,
             "#fb9f3a"
            ],
            [
             0.8888888888888888,
             "#fdca26"
            ],
            [
             1,
             "#f0f921"
            ]
           ],
           "sequentialminus": [
            [
             0,
             "#0d0887"
            ],
            [
             0.1111111111111111,
             "#46039f"
            ],
            [
             0.2222222222222222,
             "#7201a8"
            ],
            [
             0.3333333333333333,
             "#9c179e"
            ],
            [
             0.4444444444444444,
             "#bd3786"
            ],
            [
             0.5555555555555556,
             "#d8576b"
            ],
            [
             0.6666666666666666,
             "#ed7953"
            ],
            [
             0.7777777777777778,
             "#fb9f3a"
            ],
            [
             0.8888888888888888,
             "#fdca26"
            ],
            [
             1,
             "#f0f921"
            ]
           ]
          },
          "colorway": [
           "#636efa",
           "#EF553B",
           "#00cc96",
           "#ab63fa",
           "#FFA15A",
           "#19d3f3",
           "#FF6692",
           "#B6E880",
           "#FF97FF",
           "#FECB52"
          ],
          "font": {
           "color": "#2a3f5f"
          },
          "geo": {
           "bgcolor": "white",
           "lakecolor": "white",
           "landcolor": "#E5ECF6",
           "showlakes": true,
           "showland": true,
           "subunitcolor": "white"
          },
          "hoverlabel": {
           "align": "left"
          },
          "hovermode": "closest",
          "mapbox": {
           "style": "light"
          },
          "paper_bgcolor": "white",
          "plot_bgcolor": "#E5ECF6",
          "polar": {
           "angularaxis": {
            "gridcolor": "white",
            "linecolor": "white",
            "ticks": ""
           },
           "bgcolor": "#E5ECF6",
           "radialaxis": {
            "gridcolor": "white",
            "linecolor": "white",
            "ticks": ""
           }
          },
          "scene": {
           "xaxis": {
            "backgroundcolor": "#E5ECF6",
            "gridcolor": "white",
            "gridwidth": 2,
            "linecolor": "white",
            "showbackground": true,
            "ticks": "",
            "zerolinecolor": "white"
           },
           "yaxis": {
            "backgroundcolor": "#E5ECF6",
            "gridcolor": "white",
            "gridwidth": 2,
            "linecolor": "white",
            "showbackground": true,
            "ticks": "",
            "zerolinecolor": "white"
           },
           "zaxis": {
            "backgroundcolor": "#E5ECF6",
            "gridcolor": "white",
            "gridwidth": 2,
            "linecolor": "white",
            "showbackground": true,
            "ticks": "",
            "zerolinecolor": "white"
           }
          },
          "shapedefaults": {
           "line": {
            "color": "#2a3f5f"
           }
          },
          "ternary": {
           "aaxis": {
            "gridcolor": "white",
            "linecolor": "white",
            "ticks": ""
           },
           "baxis": {
            "gridcolor": "white",
            "linecolor": "white",
            "ticks": ""
           },
           "bgcolor": "#E5ECF6",
           "caxis": {
            "gridcolor": "white",
            "linecolor": "white",
            "ticks": ""
           }
          },
          "title": {
           "x": 0.05
          },
          "xaxis": {
           "automargin": true,
           "gridcolor": "white",
           "linecolor": "white",
           "ticks": "",
           "title": {
            "standoff": 15
           },
           "zerolinecolor": "white",
           "zerolinewidth": 2
          },
          "yaxis": {
           "automargin": true,
           "gridcolor": "white",
           "linecolor": "white",
           "ticks": "",
           "title": {
            "standoff": 15
           },
           "zerolinecolor": "white",
           "zerolinewidth": 2
          }
         }
        },
        "title": {
         "text": "Multi-Dimensional User Flow: Experience → Platform → Region → Success/Retry Pattern"
        },
        "width": 1400
       }
      },
      "text/html": [
       "<div>            <script src=\"https://cdnjs.cloudflare.com/ajax/libs/mathjax/2.7.5/MathJax.js?config=TeX-AMS-MML_SVG\"></script><script type=\"text/javascript\">if (window.MathJax && window.MathJax.Hub && window.MathJax.Hub.Config) {window.MathJax.Hub.Config({SVG: {font: \"STIX-Web\"}});}</script>                <script type=\"text/javascript\">window.PlotlyConfig = {MathJaxConfig: 'local'};</script>\n",
       "        <script charset=\"utf-8\" src=\"https://cdn.plot.ly/plotly-3.0.1.min.js\" integrity=\"sha256-oy6Be7Eh6eiQFs5M7oXuPxxm9qbJXEtTpfSI93dW16Q=\" crossorigin=\"anonymous\"></script>                <div id=\"5f575824-0f56-4d95-875b-4ed293144b4c\" class=\"plotly-graph-div\" style=\"height:800px; width:1400px;\"></div>            <script type=\"text/javascript\">                window.PLOTLYENV=window.PLOTLYENV || {};                                if (document.getElementById(\"5f575824-0f56-4d95-875b-4ed293144b4c\")) {                    Plotly.newPlot(                        \"5f575824-0f56-4d95-875b-4ed293144b4c\",                        [{\"link\":{\"source\":[0,4,6,0,4,6,0,4,6,0,4,5,0,4,5,0,4,5,0,4,7,0,4,7,0,4,7,0,3,6,0,3,6,0,3,6,0,3,5,0,3,5,0,3,5,0,3,5,0,3,7,0,3,7,0,3,7,0,2,6,0,2,6,0,2,6,0,2,5,0,2,5,0,2,5,0,2,7,0,2,7,0,2,7,1,4,6,1,4,6,1,4,6,1,4,5,1,4,5,1,4,5,1,4,7,1,4,7,1,4,7,1,4,7,1,3,6,1,3,6,1,3,6,1,3,5,1,3,5,1,3,5,1,3,7,1,3,7,1,3,7,1,2,6,1,2,6,1,2,6,1,2,5,1,2,5,1,2,5,1,2,7,1,2,7,1,2,7],\"target\":[4,6,8,4,6,9,4,6,11,4,5,8,4,5,9,4,5,11,4,7,8,4,7,9,4,7,11,3,6,8,3,6,9,3,6,11,3,5,8,3,5,9,3,5,10,3,5,11,3,7,8,3,7,9,3,7,11,2,6,8,2,6,9,2,6,11,2,5,8,2,5,9,2,5,11,2,7,8,2,7,9,2,7,11,4,6,8,4,6,9,4,6,11,4,5,8,4,5,9,4,5,11,4,7,8,4,7,9,4,7,10,4,7,11,3,6,8,3,6,9,3,6,11,3,5,8,3,5,9,3,5,11,3,7,8,3,7,9,3,7,11,2,6,8,2,6,9,2,6,11,2,5,8,2,5,9,2,5,11,2,7,8,2,7,9,2,7,11],\"value\":[1721,1721,1721,116,116,116,998,998,998,629,629,629,62,62,62,350,350,350,944,944,944,39,39,39,473,473,473,953,953,953,45,45,45,415,415,415,1375,1375,1375,152,152,152,5,5,5,619,619,619,610,610,610,25,25,25,247,247,247,1597,1597,1597,109,109,109,1037,1037,1037,1160,1160,1160,146,146,146,772,772,772,392,392,392,14,14,14,201,201,201,3269,3269,3269,21,21,21,50,50,50,592,592,592,36,36,36,166,166,166,4964,4964,4964,124,124,124,8,8,8,1184,1184,1184,1386,1386,1386,16,16,16,279,279,279,1282,1282,1282,64,64,64,266,266,266,3101,3101,3101,76,76,76,601,601,601,2591,2591,2591,43,43,43,767,767,767,1168,1168,1168,61,61,61,359,359,359,1932,1932,1932,58,58,58,533,533,533]},\"node\":{\"color\":[\"lightcoral\",\"lightblue\",\"lightgreen\",\"orange\",\"purple\",\"brown\",\"red\",\"yellow\",\"green\",\"pink\",\"gray\"],\"label\":[\"Experience: Existing\",\"Experience: New\",\"Platform: iOS\",\"Platform: Web\",\"Platform: Android\",\"Region: NorthAm\",\"Region: Europe\",\"Region: Other\",\"Result: Failed All\",\"Result: Low Retries\",\"Result: Medium Retries\",\"Result: Perfect Success\",\"Result: High Retries\"],\"line\":{\"color\":\"black\",\"width\":0.5},\"pad\":15,\"thickness\":20},\"type\":\"sankey\"}],                        {\"template\":{\"data\":{\"histogram2dcontour\":[{\"type\":\"histogram2dcontour\",\"colorbar\":{\"outlinewidth\":0,\"ticks\":\"\"},\"colorscale\":[[0.0,\"#0d0887\"],[0.1111111111111111,\"#46039f\"],[0.2222222222222222,\"#7201a8\"],[0.3333333333333333,\"#9c179e\"],[0.4444444444444444,\"#bd3786\"],[0.5555555555555556,\"#d8576b\"],[0.6666666666666666,\"#ed7953\"],[0.7777777777777778,\"#fb9f3a\"],[0.8888888888888888,\"#fdca26\"],[1.0,\"#f0f921\"]]}],\"choropleth\":[{\"type\":\"choropleth\",\"colorbar\":{\"outlinewidth\":0,\"ticks\":\"\"}}],\"histogram2d\":[{\"type\":\"histogram2d\",\"colorbar\":{\"outlinewidth\":0,\"ticks\":\"\"},\"colorscale\":[[0.0,\"#0d0887\"],[0.1111111111111111,\"#46039f\"],[0.2222222222222222,\"#7201a8\"],[0.3333333333333333,\"#9c179e\"],[0.4444444444444444,\"#bd3786\"],[0.5555555555555556,\"#d8576b\"],[0.6666666666666666,\"#ed7953\"],[0.7777777777777778,\"#fb9f3a\"],[0.8888888888888888,\"#fdca26\"],[1.0,\"#f0f921\"]]}],\"heatmap\":[{\"type\":\"heatmap\",\"colorbar\":{\"outlinewidth\":0,\"ticks\":\"\"},\"colorscale\":[[0.0,\"#0d0887\"],[0.1111111111111111,\"#46039f\"],[0.2222222222222222,\"#7201a8\"],[0.3333333333333333,\"#9c179e\"],[0.4444444444444444,\"#bd3786\"],[0.5555555555555556,\"#d8576b\"],[0.6666666666666666,\"#ed7953\"],[0.7777777777777778,\"#fb9f3a\"],[0.8888888888888888,\"#fdca26\"],[1.0,\"#f0f921\"]]}],\"contourcarpet\":[{\"type\":\"contourcarpet\",\"colorbar\":{\"outlinewidth\":0,\"ticks\":\"\"}}],\"contour\":[{\"type\":\"contour\",\"colorbar\":{\"outlinewidth\":0,\"ticks\":\"\"},\"colorscale\":[[0.0,\"#0d0887\"],[0.1111111111111111,\"#46039f\"],[0.2222222222222222,\"#7201a8\"],[0.3333333333333333,\"#9c179e\"],[0.4444444444444444,\"#bd3786\"],[0.5555555555555556,\"#d8576b\"],[0.6666666666666666,\"#ed7953\"],[0.7777777777777778,\"#fb9f3a\"],[0.8888888888888888,\"#fdca26\"],[1.0,\"#f0f921\"]]}],\"surface\":[{\"type\":\"surface\",\"colorbar\":{\"outlinewidth\":0,\"ticks\":\"\"},\"colorscale\":[[0.0,\"#0d0887\"],[0.1111111111111111,\"#46039f\"],[0.2222222222222222,\"#7201a8\"],[0.3333333333333333,\"#9c179e\"],[0.4444444444444444,\"#bd3786\"],[0.5555555555555556,\"#d8576b\"],[0.6666666666666666,\"#ed7953\"],[0.7777777777777778,\"#fb9f3a\"],[0.8888888888888888,\"#fdca26\"],[1.0,\"#f0f921\"]]}],\"mesh3d\":[{\"type\":\"mesh3d\",\"colorbar\":{\"outlinewidth\":0,\"ticks\":\"\"}}],\"scatter\":[{\"fillpattern\":{\"fillmode\":\"overlay\",\"size\":10,\"solidity\":0.2},\"type\":\"scatter\"}],\"parcoords\":[{\"type\":\"parcoords\",\"line\":{\"colorbar\":{\"outlinewidth\":0,\"ticks\":\"\"}}}],\"scatterpolargl\":[{\"type\":\"scatterpolargl\",\"marker\":{\"colorbar\":{\"outlinewidth\":0,\"ticks\":\"\"}}}],\"bar\":[{\"error_x\":{\"color\":\"#2a3f5f\"},\"error_y\":{\"color\":\"#2a3f5f\"},\"marker\":{\"line\":{\"color\":\"#E5ECF6\",\"width\":0.5},\"pattern\":{\"fillmode\":\"overlay\",\"size\":10,\"solidity\":0.2}},\"type\":\"bar\"}],\"scattergeo\":[{\"type\":\"scattergeo\",\"marker\":{\"colorbar\":{\"outlinewidth\":0,\"ticks\":\"\"}}}],\"scatterpolar\":[{\"type\":\"scatterpolar\",\"marker\":{\"colorbar\":{\"outlinewidth\":0,\"ticks\":\"\"}}}],\"histogram\":[{\"marker\":{\"pattern\":{\"fillmode\":\"overlay\",\"size\":10,\"solidity\":0.2}},\"type\":\"histogram\"}],\"scattergl\":[{\"type\":\"scattergl\",\"marker\":{\"colorbar\":{\"outlinewidth\":0,\"ticks\":\"\"}}}],\"scatter3d\":[{\"type\":\"scatter3d\",\"line\":{\"colorbar\":{\"outlinewidth\":0,\"ticks\":\"\"}},\"marker\":{\"colorbar\":{\"outlinewidth\":0,\"ticks\":\"\"}}}],\"scattermap\":[{\"type\":\"scattermap\",\"marker\":{\"colorbar\":{\"outlinewidth\":0,\"ticks\":\"\"}}}],\"scattermapbox\":[{\"type\":\"scattermapbox\",\"marker\":{\"colorbar\":{\"outlinewidth\":0,\"ticks\":\"\"}}}],\"scatterternary\":[{\"type\":\"scatterternary\",\"marker\":{\"colorbar\":{\"outlinewidth\":0,\"ticks\":\"\"}}}],\"scattercarpet\":[{\"type\":\"scattercarpet\",\"marker\":{\"colorbar\":{\"outlinewidth\":0,\"ticks\":\"\"}}}],\"carpet\":[{\"aaxis\":{\"endlinecolor\":\"#2a3f5f\",\"gridcolor\":\"white\",\"linecolor\":\"white\",\"minorgridcolor\":\"white\",\"startlinecolor\":\"#2a3f5f\"},\"baxis\":{\"endlinecolor\":\"#2a3f5f\",\"gridcolor\":\"white\",\"linecolor\":\"white\",\"minorgridcolor\":\"white\",\"startlinecolor\":\"#2a3f5f\"},\"type\":\"carpet\"}],\"table\":[{\"cells\":{\"fill\":{\"color\":\"#EBF0F8\"},\"line\":{\"color\":\"white\"}},\"header\":{\"fill\":{\"color\":\"#C8D4E3\"},\"line\":{\"color\":\"white\"}},\"type\":\"table\"}],\"barpolar\":[{\"marker\":{\"line\":{\"color\":\"#E5ECF6\",\"width\":0.5},\"pattern\":{\"fillmode\":\"overlay\",\"size\":10,\"solidity\":0.2}},\"type\":\"barpolar\"}],\"pie\":[{\"automargin\":true,\"type\":\"pie\"}]},\"layout\":{\"autotypenumbers\":\"strict\",\"colorway\":[\"#636efa\",\"#EF553B\",\"#00cc96\",\"#ab63fa\",\"#FFA15A\",\"#19d3f3\",\"#FF6692\",\"#B6E880\",\"#FF97FF\",\"#FECB52\"],\"font\":{\"color\":\"#2a3f5f\"},\"hovermode\":\"closest\",\"hoverlabel\":{\"align\":\"left\"},\"paper_bgcolor\":\"white\",\"plot_bgcolor\":\"#E5ECF6\",\"polar\":{\"bgcolor\":\"#E5ECF6\",\"angularaxis\":{\"gridcolor\":\"white\",\"linecolor\":\"white\",\"ticks\":\"\"},\"radialaxis\":{\"gridcolor\":\"white\",\"linecolor\":\"white\",\"ticks\":\"\"}},\"ternary\":{\"bgcolor\":\"#E5ECF6\",\"aaxis\":{\"gridcolor\":\"white\",\"linecolor\":\"white\",\"ticks\":\"\"},\"baxis\":{\"gridcolor\":\"white\",\"linecolor\":\"white\",\"ticks\":\"\"},\"caxis\":{\"gridcolor\":\"white\",\"linecolor\":\"white\",\"ticks\":\"\"}},\"coloraxis\":{\"colorbar\":{\"outlinewidth\":0,\"ticks\":\"\"}},\"colorscale\":{\"sequential\":[[0.0,\"#0d0887\"],[0.1111111111111111,\"#46039f\"],[0.2222222222222222,\"#7201a8\"],[0.3333333333333333,\"#9c179e\"],[0.4444444444444444,\"#bd3786\"],[0.5555555555555556,\"#d8576b\"],[0.6666666666666666,\"#ed7953\"],[0.7777777777777778,\"#fb9f3a\"],[0.8888888888888888,\"#fdca26\"],[1.0,\"#f0f921\"]],\"sequentialminus\":[[0.0,\"#0d0887\"],[0.1111111111111111,\"#46039f\"],[0.2222222222222222,\"#7201a8\"],[0.3333333333333333,\"#9c179e\"],[0.4444444444444444,\"#bd3786\"],[0.5555555555555556,\"#d8576b\"],[0.6666666666666666,\"#ed7953\"],[0.7777777777777778,\"#fb9f3a\"],[0.8888888888888888,\"#fdca26\"],[1.0,\"#f0f921\"]],\"diverging\":[[0,\"#8e0152\"],[0.1,\"#c51b7d\"],[0.2,\"#de77ae\"],[0.3,\"#f1b6da\"],[0.4,\"#fde0ef\"],[0.5,\"#f7f7f7\"],[0.6,\"#e6f5d0\"],[0.7,\"#b8e186\"],[0.8,\"#7fbc41\"],[0.9,\"#4d9221\"],[1,\"#276419\"]]},\"xaxis\":{\"gridcolor\":\"white\",\"linecolor\":\"white\",\"ticks\":\"\",\"title\":{\"standoff\":15},\"zerolinecolor\":\"white\",\"automargin\":true,\"zerolinewidth\":2},\"yaxis\":{\"gridcolor\":\"white\",\"linecolor\":\"white\",\"ticks\":\"\",\"title\":{\"standoff\":15},\"zerolinecolor\":\"white\",\"automargin\":true,\"zerolinewidth\":2},\"scene\":{\"xaxis\":{\"backgroundcolor\":\"#E5ECF6\",\"gridcolor\":\"white\",\"linecolor\":\"white\",\"showbackground\":true,\"ticks\":\"\",\"zerolinecolor\":\"white\",\"gridwidth\":2},\"yaxis\":{\"backgroundcolor\":\"#E5ECF6\",\"gridcolor\":\"white\",\"linecolor\":\"white\",\"showbackground\":true,\"ticks\":\"\",\"zerolinecolor\":\"white\",\"gridwidth\":2},\"zaxis\":{\"backgroundcolor\":\"#E5ECF6\",\"gridcolor\":\"white\",\"linecolor\":\"white\",\"showbackground\":true,\"ticks\":\"\",\"zerolinecolor\":\"white\",\"gridwidth\":2}},\"shapedefaults\":{\"line\":{\"color\":\"#2a3f5f\"}},\"annotationdefaults\":{\"arrowcolor\":\"#2a3f5f\",\"arrowhead\":0,\"arrowwidth\":1},\"geo\":{\"bgcolor\":\"white\",\"landcolor\":\"#E5ECF6\",\"subunitcolor\":\"white\",\"showland\":true,\"showlakes\":true,\"lakecolor\":\"white\"},\"title\":{\"x\":0.05},\"mapbox\":{\"style\":\"light\"}}},\"title\":{\"text\":\"Multi-Dimensional User Flow: Experience → Platform → Region → Success\\u002fRetry Pattern\"},\"font\":{\"size\":10},\"width\":1400,\"height\":800},                        {\"responsive\": true}                    ).then(function(){\n",
       "                            \n",
       "var gd = document.getElementById('5f575824-0f56-4d95-875b-4ed293144b4c');\n",
       "var x = new MutationObserver(function (mutations, observer) {{\n",
       "        var display = window.getComputedStyle(gd).display;\n",
       "        if (!display || display === 'none') {{\n",
       "            console.log([gd, 'removed!']);\n",
       "            Plotly.purge(gd);\n",
       "            observer.disconnect();\n",
       "        }}\n",
       "}});\n",
       "\n",
       "// Listen for the removal of the full notebook cells\n",
       "var notebookContainer = gd.closest('#notebook-container');\n",
       "if (notebookContainer) {{\n",
       "    x.observe(notebookContainer, {childList: true});\n",
       "}}\n",
       "\n",
       "// Listen for the clearing of the current output cell\n",
       "var outputEl = gd.closest('.output');\n",
       "if (outputEl) {{\n",
       "    x.observe(outputEl, {childList: true});\n",
       "}}\n",
       "\n",
       "                        })                };            </script>        </div>"
      ]
     },
     "metadata": {},
     "output_type": "display_data"
    },
    {
     "name": "stdout",
     "output_type": "stream",
     "text": [
      "\n",
      "📊 Advanced Flow Summary:\n",
      "• Total flow connections: 168\n",
      "• Minimum flow size: 5 users\n",
      "• Total users in flows: 40,203\n",
      "• Most common pattern: Existing → Android → Europe → Failed All (1721 users)\n",
      "\n",
      "🎯 SUCCESS PATTERNS BY SEGMENT\n",
      "========================================\n",
      "\n",
      "Success patterns by Experience × Retry Category:\n",
      "                            User_Count  Avg_Created  Avg_Transferred  \\\n",
      "experience retry_category                                              \n",
      "Existing   Failed All             9381         1.04             0.00   \n",
      "           High Retries              3         4.00             1.00   \n",
      "           Low Retries             708         2.04             1.03   \n",
      "           Medium Retries           13         3.15             1.08   \n",
      "           Perfect Success        5112         1.06             1.06   \n",
      "New        Failed All            20285         1.03             0.00   \n",
      "           High Retries              3         4.00             1.00   \n",
      "           Low Retries             499         2.04             1.03   \n",
      "           Medium Retries           14         3.14             1.07   \n",
      "           Perfect Success        4205         1.04             1.04   \n",
      "\n",
      "                            Success_Rate  \n",
      "experience retry_category                 \n",
      "Existing   Failed All                0.0  \n",
      "           High Retries             25.0  \n",
      "           Low Retries              50.5  \n",
      "           Medium Retries           34.3  \n",
      "           Perfect Success         100.0  \n",
      "New        Failed All                0.0  \n",
      "           High Retries             25.0  \n",
      "           Low Retries              50.5  \n",
      "           Medium Retries           34.1  \n",
      "           Perfect Success         100.0  \n",
      "\n",
      "🏆 MOST EFFICIENT SEGMENTS (Perfect Success or Low Retries, min 10 users):\n",
      "• New × Android × Other: 1,184 users (Perfect Success)\n",
      "• Existing × iOS × Europe: 1,037 users (Perfect Success)\n",
      "• Existing × Android × Europe: 998 users (Perfect Success)\n",
      "• Existing × iOS × NorthAm: 772 users (Perfect Success)\n",
      "• New × iOS × Europe: 767 users (Perfect Success)\n",
      "\n",
      "🚨 PROBLEM SEGMENTS (Failed All or High Retries, min 5 users):\n",
      "• New × Android × Other: 4,964 users (Failed All)\n",
      "• New × Android × Europe: 3,269 users (Failed All)\n",
      "• New × Web × Other: 3,101 users (Failed All)\n",
      "• New × iOS × Europe: 2,591 users (Failed All)\n",
      "• New × iOS × Other: 1,932 users (Failed All)\n",
      "\n",
      "💡 KEY INSIGHTS FROM SANKEY ANALYSIS:\n",
      "• Most users have 'Failed All' pattern (29,666 users)\n",
      "• Top performing segment: New users on Android in Other\n",
      "• Biggest problem area: Failed All pattern with 4,964 users\n",
      "• Flow visualization reveals clear patterns for optimization targeting\n"
     ]
    }
   ],
   "source": [
    "# Install plotly for Sankey diagrams\n",
    "!pip install plotly --quiet\n",
    "\n",
    "import plotly.graph_objects as go\n",
    "import plotly.express as px\n",
    "from plotly.offline import init_notebook_mode, iplot\n",
    "init_notebook_mode(connected=True)\n",
    "\n",
    "print(\"📊 FREQUENCY OF FREQUENCY ANALYSIS\")\n",
    "print(\"=\"*50)\n",
    "\n",
    "# Calculate frequency distributions for each event type\n",
    "event_types = ['Transfer Created', 'Transfer Funded', 'Transfer Transferred']\n",
    "frequency_data = {}\n",
    "\n",
    "for event_type in event_types:\n",
    "    # Count how many times each user performed this event\n",
    "    user_event_counts = df[df['event_name'] == event_type]['user_id'].value_counts()\n",
    "    \n",
    "    # Count how many users performed this event 1 time, 2 times, etc.\n",
    "    frequency_distribution = user_event_counts.value_counts().sort_index()\n",
    "    \n",
    "    frequency_data[event_type] = {\n",
    "        'user_counts': user_event_counts,\n",
    "        'frequency_dist': frequency_distribution\n",
    "    }\n",
    "    \n",
    "    print(f\"\\n{event_type.upper()}:\")\n",
    "    print(f\"• Total unique users: {len(user_event_counts):,}\")\n",
    "    print(f\"• Frequency distribution:\")\n",
    "    \n",
    "    for freq, num_users in frequency_distribution.items():\n",
    "        pct = num_users / len(user_event_counts) * 100\n",
    "        print(f\"  - {freq} time(s): {num_users:,} users ({pct:.1f}%)\")\n",
    "\n",
    "# Create comprehensive frequency visualization\n",
    "fig, axes = plt.subplots(2, 2, figsize=(16, 12))\n",
    "\n",
    "# 1. Created transfers frequency\n",
    "created_freq = frequency_data['Transfer Created']['frequency_dist']\n",
    "bars1 = axes[0,0].bar(created_freq.index, created_freq.values, color='#ff7f0e', alpha=0.7)\n",
    "axes[0,0].set_title('Transfer Created - Frequency Distribution', fontweight='bold')\n",
    "axes[0,0].set_xlabel('Number of Transfers Created')\n",
    "axes[0,0].set_ylabel('Number of Users')\n",
    "\n",
    "# Add value labels\n",
    "for bar, count in zip(bars1, created_freq.values):\n",
    "    height = bar.get_height()\n",
    "    axes[0,0].text(bar.get_x() + bar.get_width()/2., height + height*0.01,\n",
    "                   f'{count:,}', ha='center', va='bottom', fontsize=10)\n",
    "\n",
    "# 2. Funded transfers frequency\n",
    "funded_freq = frequency_data['Transfer Funded']['frequency_dist']\n",
    "bars2 = axes[0,1].bar(funded_freq.index, funded_freq.values, color='#2ca02c', alpha=0.7)\n",
    "axes[0,1].set_title('Transfer Funded - Frequency Distribution', fontweight='bold')\n",
    "axes[0,1].set_xlabel('Number of Transfers Funded')\n",
    "axes[0,1].set_ylabel('Number of Users')\n",
    "\n",
    "# Add value labels\n",
    "for bar, count in zip(bars2, funded_freq.values):\n",
    "    height = bar.get_height()\n",
    "    axes[0,1].text(bar.get_x() + bar.get_width()/2., height + height*0.01,\n",
    "                   f'{count:,}', ha='center', va='bottom', fontsize=10)\n",
    "\n",
    "# 3. Transferred (completed) frequency\n",
    "transferred_freq = frequency_data['Transfer Transferred']['frequency_dist']\n",
    "bars3 = axes[1,0].bar(transferred_freq.index, transferred_freq.values, color='#1f77b4', alpha=0.7)\n",
    "axes[1,0].set_title('Transfer Transferred - Frequency Distribution', fontweight='bold')\n",
    "axes[1,0].set_xlabel('Number of Transfers Completed')\n",
    "axes[1,0].set_ylabel('Number of Users')\n",
    "\n",
    "# Add value labels\n",
    "for bar, count in zip(bars3, transferred_freq.values):\n",
    "    height = bar.get_height()\n",
    "    axes[1,0].text(bar.get_x() + bar.get_width()/2., height + height*0.01,\n",
    "                   f'{count:,}', ha='center', va='bottom', fontsize=10)\n",
    "\n",
    "# 4. Comparison chart\n",
    "max_freq = max(created_freq.index.max(), funded_freq.index.max(), transferred_freq.index.max())\n",
    "freq_comparison = pd.DataFrame({\n",
    "    'Frequency': range(1, min(max_freq + 1, 6)),  # Show up to 5 for readability\n",
    "    'Created': [created_freq.get(i, 0) for i in range(1, min(max_freq + 1, 6))],\n",
    "    'Funded': [funded_freq.get(i, 0) for i in range(1, min(max_freq + 1, 6))],\n",
    "    'Transferred': [transferred_freq.get(i, 0) for i in range(1, min(max_freq + 1, 6))]\n",
    "})\n",
    "\n",
    "freq_comparison.set_index('Frequency').plot(kind='bar', ax=axes[1,1], \n",
    "                                           color=['#ff7f0e', '#2ca02c', '#1f77b4'], alpha=0.7)\n",
    "axes[1,1].set_title('Frequency Comparison Across Event Types', fontweight='bold')\n",
    "axes[1,1].set_xlabel('Number of Times')\n",
    "axes[1,1].set_ylabel('Number of Users')\n",
    "axes[1,1].tick_params(axis='x', rotation=0)\n",
    "axes[1,1].legend()\n",
    "\n",
    "plt.tight_layout()\n",
    "plt.show()\n",
    "\n",
    "# Summary statistics\n",
    "print(f\"\\n📊 SUMMARY STATISTICS:\")\n",
    "for event_type in event_types:\n",
    "    user_counts = frequency_data[event_type]['user_counts']\n",
    "    print(f\"\\n{event_type}:\")\n",
    "    print(f\"  • Mean events per user: {user_counts.mean():.2f}\")\n",
    "    print(f\"  • Max events by single user: {user_counts.max()}\")\n",
    "    print(f\"  • Users with 1 event: {(user_counts == 1).sum():,} ({(user_counts == 1).mean()*100:.1f}%)\")\n",
    "    print(f\"  • Users with 2+ events: {(user_counts >= 2).sum():,} ({(user_counts >= 2).mean()*100:.1f}%)\")\n",
    "    if user_counts.max() >= 3:\n",
    "        print(f\"  • Users with 3+ events: {(user_counts >= 3).sum():,} ({(user_counts >= 3).mean()*100:.1f}%)\")\n",
    "\n",
    "print(\"\\n🌊 SANKEY DIAGRAM: USER FREQUENCY FLOW\")\n",
    "print(\"=\"*50)\n",
    "\n",
    "# Create user journey data for Sankey\n",
    "user_journey_data = []\n",
    "\n",
    "for user_id in df['user_id'].unique():\n",
    "    user_events = df[df['user_id'] == user_id]\n",
    "    \n",
    "    created_count = len(user_events[user_events['event_name'] == 'Transfer Created'])\n",
    "    funded_count = len(user_events[user_events['event_name'] == 'Transfer Funded'])\n",
    "    transferred_count = len(user_events[user_events['event_name'] == 'Transfer Transferred'])\n",
    "    \n",
    "    user_journey_data.append({\n",
    "        'user_id': user_id,\n",
    "        'created': created_count,\n",
    "        'funded': funded_count,\n",
    "        'transferred': transferred_count\n",
    "    })\n",
    "\n",
    "user_journey_df = pd.DataFrame(user_journey_data)\n",
    "\n",
    "# Create frequency flow data\n",
    "flow_data = []\n",
    "\n",
    "# Group users by their frequency patterns\n",
    "patterns = user_journey_df.groupby(['created', 'funded', 'transferred']).size().reset_index(name='count')\n",
    "patterns = patterns.sort_values('count', ascending=False)\n",
    "\n",
    "print(f\"Top 10 User Journey Patterns:\")\n",
    "for _, row in patterns.head(10).iterrows():\n",
    "    print(f\"Created {row['created']}, Funded {row['funded']}, Transferred {row['transferred']}: {row['count']:,} users\")\n",
    "\n",
    "# Prepare Sankey data for frequency flow\n",
    "source_nodes = []\n",
    "target_nodes = []\n",
    "values = []\n",
    "labels = []\n",
    "\n",
    "# Create labels for different frequency levels\n",
    "for event_type in ['Created', 'Funded', 'Transferred']:\n",
    "    for freq in range(1, 6):  # 1-5+ frequencies\n",
    "        if freq == 5:\n",
    "            labels.append(f\"{event_type} 5+\")\n",
    "        else:\n",
    "            labels.append(f\"{event_type} {freq}\")\n",
    "\n",
    "# Create flows between Created → Funded → Transferred\n",
    "for _, row in patterns.iterrows():\n",
    "    if row['count'] >= 10:  # Only show significant flows\n",
    "        created_freq = min(row['created'], 5)\n",
    "        funded_freq = min(row['funded'], 5)\n",
    "        transferred_freq = min(row['transferred'], 5)\n",
    "        \n",
    "        # Flow from Created to Funded\n",
    "        if funded_freq > 0:\n",
    "            source_idx = (created_freq - 1)  # Created frequency index\n",
    "            target_idx = 5 + (funded_freq - 1)  # Funded frequency index (offset by 5)\n",
    "            \n",
    "            source_nodes.append(source_idx)\n",
    "            target_nodes.append(target_idx)\n",
    "            values.append(row['count'])\n",
    "        \n",
    "        # Flow from Funded to Transferred\n",
    "        if transferred_freq > 0 and funded_freq > 0:\n",
    "            source_idx = 5 + (funded_freq - 1)  # Funded frequency index\n",
    "            target_idx = 10 + (transferred_freq - 1)  # Transferred frequency index (offset by 10)\n",
    "            \n",
    "            source_nodes.append(source_idx)\n",
    "            target_nodes.append(target_idx)\n",
    "            values.append(row['count'])\n",
    "\n",
    "# Create Sankey diagram\n",
    "fig = go.Figure(data=[go.Sankey(\n",
    "    node = dict(\n",
    "        pad = 15,\n",
    "        thickness = 20,\n",
    "        line = dict(color = \"black\", width = 0.5),\n",
    "        label = labels,\n",
    "        color = [\"orange\"] * 5 + [\"green\"] * 5 + [\"blue\"] * 5\n",
    "    ),\n",
    "    link = dict(\n",
    "        source = source_nodes,\n",
    "        target = target_nodes,\n",
    "        value = values\n",
    "    )\n",
    ")])\n",
    "\n",
    "fig.update_layout(\n",
    "    title_text=\"User Journey Frequency Flow: Created → Funded → Transferred\",\n",
    "    font_size=12,\n",
    "    width=1200,\n",
    "    height=600\n",
    ")\n",
    "\n",
    "fig.show()\n",
    "\n",
    "print(f\"\\n📊 Flow Summary:\")\n",
    "print(f\"• Total flows shown: {len(values)}\")\n",
    "print(f\"• Minimum flow size: 10 users\")\n",
    "print(f\"• Largest single flow: {max(values):,} users\")\n",
    "\n",
    "print(\"🌊 ADVANCED SANKEY: Experience → Platform → Region → Retries\")\n",
    "print(\"=\"*70)\n",
    "\n",
    "# Create comprehensive user profile for multi-dimensional Sankey\n",
    "user_profiles_advanced = []\n",
    "\n",
    "for user_id in df['user_id'].unique():\n",
    "    user_events = df[df['user_id'] == user_id].sort_values('dt')\n",
    "    \n",
    "    # Get user characteristics (use first appearance)\n",
    "    first_event = user_events.iloc[0]\n",
    "    \n",
    "    # Calculate retry patterns (attempts vs completions)\n",
    "    created_count = len(user_events[user_events['event_name'] == 'Transfer Created'])\n",
    "    transferred_count = len(user_events[user_events['event_name'] == 'Transfer Transferred'])\n",
    "    \n",
    "    # Define retry categories\n",
    "    if created_count == 0:\n",
    "        retry_category = \"No Attempts\"\n",
    "    elif transferred_count == 0:\n",
    "        retry_category = \"Failed All\"\n",
    "    elif created_count == transferred_count:\n",
    "        retry_category = \"Perfect Success\"\n",
    "    elif created_count > transferred_count:\n",
    "        retry_ratio = created_count / max(transferred_count, 1)\n",
    "        if retry_ratio <= 2:\n",
    "            retry_category = \"Low Retries\"\n",
    "        elif retry_ratio <= 3:\n",
    "            retry_category = \"Medium Retries\"\n",
    "        else:\n",
    "            retry_category = \"High Retries\"\n",
    "    else:\n",
    "        retry_category = \"Perfect Success\"\n",
    "    \n",
    "    user_profiles_advanced.append({\n",
    "        'user_id': user_id,\n",
    "        'experience': first_event['experience'],\n",
    "        'platform': first_event['platform'],\n",
    "        'region': first_event['region'],\n",
    "        'retry_category': retry_category,\n",
    "        'created_count': created_count,\n",
    "        'transferred_count': transferred_count\n",
    "    })\n",
    "\n",
    "advanced_df = pd.DataFrame(user_profiles_advanced)\n",
    "\n",
    "# Display retry category distribution\n",
    "print(f\"📊 RETRY CATEGORIES:\")\n",
    "retry_dist = advanced_df['retry_category'].value_counts()\n",
    "for category, count in retry_dist.items():\n",
    "    pct = count / len(advanced_df) * 100\n",
    "    print(f\"• {category}: {count:,} users ({pct:.1f}%)\")\n",
    "\n",
    "# Create flows for the advanced Sankey\n",
    "# Flow: Experience → Platform → Region → Retry Category\n",
    "\n",
    "flow_patterns = advanced_df.groupby(['experience', 'platform', 'region', 'retry_category']).size().reset_index(name='count')\n",
    "flow_patterns = flow_patterns[flow_patterns['count'] >= 5]  # Filter small flows\n",
    "\n",
    "print(f\"\\n🌊 FLOW PATTERNS (min 5 users):\")\n",
    "print(f\"Total significant flow patterns: {len(flow_patterns)}\")\n",
    "\n",
    "# Prepare advanced Sankey data\n",
    "all_labels = []\n",
    "node_colors = []\n",
    "\n",
    "# Level 1: Experience\n",
    "experience_labels = [f\"Experience: {exp}\" for exp in advanced_df['experience'].unique()]\n",
    "all_labels.extend(experience_labels)\n",
    "node_colors.extend([\"lightcoral\", \"lightblue\"])  # Colors for New/Existing\n",
    "\n",
    "# Level 2: Platform  \n",
    "platform_labels = [f\"Platform: {plat}\" for plat in advanced_df['platform'].unique()]\n",
    "all_labels.extend(platform_labels)\n",
    "node_colors.extend([\"lightgreen\", \"orange\"])  # Colors for platforms\n",
    "\n",
    "# Level 3: Region\n",
    "region_labels = [f\"Region: {reg}\" for reg in advanced_df['region'].unique()]\n",
    "all_labels.extend(region_labels)\n",
    "node_colors.extend([\"purple\", \"brown\"])  # Colors for regions\n",
    "\n",
    "# Level 4: Retry Categories\n",
    "retry_labels = [f\"Result: {cat}\" for cat in advanced_df['retry_category'].unique()]\n",
    "all_labels.extend(retry_labels)\n",
    "node_colors.extend([\"red\", \"yellow\", \"green\", \"pink\", \"gray\", \"cyan\"][:len(retry_labels)])\n",
    "\n",
    "# Create node index mapping\n",
    "label_to_index = {label: idx for idx, label in enumerate(all_labels)}\n",
    "\n",
    "# Build flows\n",
    "source_nodes_adv = []\n",
    "target_nodes_adv = []\n",
    "values_adv = []\n",
    "\n",
    "for _, row in flow_patterns.iterrows():\n",
    "    count = row['count']\n",
    "    \n",
    "    # Flow 1: Experience → Platform\n",
    "    exp_idx = label_to_index[f\"Experience: {row['experience']}\"]\n",
    "    plat_idx = label_to_index[f\"Platform: {row['platform']}\"]\n",
    "    source_nodes_adv.append(exp_idx)\n",
    "    target_nodes_adv.append(plat_idx)\n",
    "    values_adv.append(count)\n",
    "    \n",
    "    # Flow 2: Platform → Region\n",
    "    reg_idx = label_to_index[f\"Region: {row['region']}\"]\n",
    "    source_nodes_adv.append(plat_idx)\n",
    "    target_nodes_adv.append(reg_idx)\n",
    "    values_adv.append(count)\n",
    "    \n",
    "    # Flow 3: Region → Retry Category\n",
    "    retry_idx = label_to_index[f\"Result: {row['retry_category']}\"]\n",
    "    source_nodes_adv.append(reg_idx)\n",
    "    target_nodes_adv.append(retry_idx)\n",
    "    values_adv.append(count)\n",
    "\n",
    "# Create advanced Sankey diagram\n",
    "fig_advanced = go.Figure(data=[go.Sankey(\n",
    "    node = dict(\n",
    "        pad = 15,\n",
    "        thickness = 20,\n",
    "        line = dict(color = \"black\", width = 0.5),\n",
    "        label = all_labels,\n",
    "        color = node_colors\n",
    "    ),\n",
    "    link = dict(\n",
    "        source = source_nodes_adv,\n",
    "        target = target_nodes_adv,\n",
    "        value = values_adv\n",
    "    )\n",
    ")])\n",
    "\n",
    "fig_advanced.update_layout(\n",
    "    title_text=\"Multi-Dimensional User Flow: Experience → Platform → Region → Success/Retry Pattern\",\n",
    "    font_size=10,\n",
    "    width=1400,\n",
    "    height=800\n",
    ")\n",
    "\n",
    "fig_advanced.show()\n",
    "\n",
    "print(f\"\\n📊 Advanced Flow Summary:\")\n",
    "print(f\"• Total flow connections: {len(values_adv)}\")\n",
    "print(f\"• Minimum flow size: 5 users\")\n",
    "print(f\"• Total users in flows: {sum(values_adv)//3:,}\")  # Divide by 3 since each user creates 3 flows\n",
    "print(f\"• Most common pattern: {flow_patterns.iloc[0]['experience']} → {flow_patterns.iloc[0]['platform']} → {flow_patterns.iloc[0]['region']} → {flow_patterns.iloc[0]['retry_category']} ({flow_patterns.iloc[0]['count']} users)\")\n",
    "\n",
    "# Additional analysis: Success patterns by segments\n",
    "print(f\"\\n🎯 SUCCESS PATTERNS BY SEGMENT\")\n",
    "print(\"=\"*40)\n",
    "\n",
    "# Success rate by experience and retry pattern\n",
    "success_analysis = advanced_df.groupby(['experience', 'retry_category']).agg({\n",
    "    'user_id': 'count',\n",
    "    'created_count': 'mean',\n",
    "    'transferred_count': 'mean'\n",
    "}).round(2)\n",
    "\n",
    "success_analysis.columns = ['User_Count', 'Avg_Created', 'Avg_Transferred']\n",
    "success_analysis['Success_Rate'] = (success_analysis['Avg_Transferred'] / success_analysis['Avg_Created'] * 100).round(1)\n",
    "\n",
    "print(f\"\\nSuccess patterns by Experience × Retry Category:\")\n",
    "print(success_analysis)\n",
    "\n",
    "# Most efficient segments (high success, low retries)\n",
    "efficient_segments = flow_patterns[\n",
    "    (flow_patterns['retry_category'].isin(['Perfect Success', 'Low Retries'])) &\n",
    "    (flow_patterns['count'] >= 10)\n",
    "].sort_values('count', ascending=False)\n",
    "\n",
    "print(f\"\\n🏆 MOST EFFICIENT SEGMENTS (Perfect Success or Low Retries, min 10 users):\")\n",
    "for _, row in efficient_segments.head(5).iterrows():\n",
    "    print(f\"• {row['experience']} × {row['platform']} × {row['region']}: {row['count']:,} users ({row['retry_category']})\")\n",
    "\n",
    "# Problem segments (high failure or retries)\n",
    "problem_segments = flow_patterns[\n",
    "    (flow_patterns['retry_category'].isin(['Failed All', 'High Retries'])) &\n",
    "    (flow_patterns['count'] >= 5)\n",
    "].sort_values('count', ascending=False)\n",
    "\n",
    "print(f\"\\n🚨 PROBLEM SEGMENTS (Failed All or High Retries, min 5 users):\")\n",
    "for _, row in problem_segments.head(5).iterrows():\n",
    "    print(f\"• {row['experience']} × {row['platform']} × {row['region']}: {row['count']:,} users ({row['retry_category']})\")\n",
    "\n",
    "print(f\"\\n💡 KEY INSIGHTS FROM SANKEY ANALYSIS:\")\n",
    "print(f\"• Most users have '{retry_dist.index[0]}' pattern ({retry_dist.iloc[0]:,} users)\")\n",
    "print(f\"• Top performing segment: {efficient_segments.iloc[0]['experience']} users on {efficient_segments.iloc[0]['platform']} in {efficient_segments.iloc[0]['region']}\")\n",
    "print(f\"• Biggest problem area: {problem_segments.iloc[0]['retry_category']} pattern with {problem_segments.iloc[0]['count']:,} users\")\n",
    "print(f\"• Flow visualization reveals clear patterns for optimization targeting\")"
   ]
  },
  {
   "cell_type": "markdown",
   "metadata": {},
   "source": [
    "## 3.5. Frequency of Frequency Analysis\\n\\n### How many customers created 1, 2, 3+ transfers? Funded? Transferred?"
   ]
  },
  {
   "cell_type": "markdown",
   "metadata": {},
   "source": [
    "## 4. New vs Existing Customer Analysis (Primary Split)\n",
    "\n",
    "### Understanding the performance difference"
   ]
  },
  {
   "cell_type": "code",
   "execution_count": 6,
   "metadata": {},
   "outputs": [
    {
     "name": "stdout",
     "output_type": "stream",
     "text": [
      "🆕 NEW vs EXISTING CUSTOMER ANALYSIS\n",
      "==================================================\n",
      "🚨 LABEL CONSISTENCY CHECK:\n",
      "• Users with consistent labels: 39,404\n",
      "• Users with mixed labels: 819 (2.0%)\n",
      "\n",
      "⚠️  WARNING: 819 users have both 'New' and 'Existing' labels\n",
      "This suggests labels are transaction-specific, not user-specific\n",
      "\n",
      "📊 USER CLASSIFICATION (by first appearance):\n",
      "• New users: 24,666 (61.3%)\n",
      "• Existing users: 15,557 (38.7%)\n",
      "\n",
      "🎯 FUNNEL PERFORMANCE BY EXPERIENCE:\n",
      "\n",
      "NEW USERS:\n",
      "  • Created transfers: 24,666\n",
      "  • Funded transfers: 8,614 (34.9% conversion)\n",
      "  • Completed transfers: 4,397 (17.8% conversion)\n",
      "\n",
      "EXISTING USERS:\n",
      "  • Created transfers: 15,557\n",
      "  • Funded transfers: 9,581 (61.6% conversion)\n",
      "  • Completed transfers: 6,160 (39.6% conversion)\n",
      "\n",
      "📈 SUCCESS RATE COMPARISON:\n",
      "• New users success rate: 17.8%\n",
      "• Existing users success rate: 39.6%\n",
      "• Performance gap: 21.8 percentage points\n",
      "• Existing users are 2.2x more successful\n"
     ]
    }
   ],
   "source": [
    "print(\"🆕 NEW vs EXISTING CUSTOMER ANALYSIS\")\n",
    "print(\"=\"*50)\n",
    "\n",
    "# First, check if users have mixed labels\n",
    "user_experience_check = df.groupby('user_id')['experience'].nunique()\n",
    "mixed_label_users = user_experience_check[user_experience_check > 1]\n",
    "\n",
    "print(f\"🚨 LABEL CONSISTENCY CHECK:\")\n",
    "print(f\"• Users with consistent labels: {len(user_experience_check[user_experience_check == 1]):,}\")\n",
    "print(f\"• Users with mixed labels: {len(mixed_label_users):,} ({len(mixed_label_users)/len(user_experience_check)*100:.1f}%)\")\n",
    "\n",
    "if len(mixed_label_users) > 0:\n",
    "    print(f\"\\n⚠️  WARNING: {len(mixed_label_users)} users have both 'New' and 'Existing' labels\")\n",
    "    print(f\"This suggests labels are transaction-specific, not user-specific\")\n",
    "\n",
    "# Analyze by first experience (user's initial classification)\n",
    "user_first_experience = df.groupby('user_id').first()['experience']\n",
    "\n",
    "print(f\"\\n📊 USER CLASSIFICATION (by first appearance):\")\n",
    "first_exp_counts = user_first_experience.value_counts()\n",
    "for exp, count in first_exp_counts.items():\n",
    "    pct = count / len(user_first_experience) * 100\n",
    "    print(f\"• {exp} users: {count:,} ({pct:.1f}%)\")\n",
    "\n",
    "# Funnel performance by experience (using first experience)\n",
    "print(f\"\\n🎯 FUNNEL PERFORMANCE BY EXPERIENCE:\")\n",
    "\n",
    "for exp in ['New', 'Existing']:\n",
    "    exp_users = set(user_first_experience[user_first_experience == exp].index)\n",
    "    \n",
    "    exp_created = len(exp_users.intersection(created_users))\n",
    "    exp_funded = len(exp_users.intersection(funded_users))\n",
    "    exp_transferred = len(exp_users.intersection(transferred_users))\n",
    "    \n",
    "    created_to_funded = exp_funded / exp_created * 100 if exp_created > 0 else 0\n",
    "    created_to_transferred = exp_transferred / exp_created * 100 if exp_created > 0 else 0\n",
    "    \n",
    "    print(f\"\\n{exp.upper()} USERS:\")\n",
    "    print(f\"  • Created transfers: {exp_created:,}\")\n",
    "    print(f\"  • Funded transfers: {exp_funded:,} ({created_to_funded:.1f}% conversion)\")\n",
    "    print(f\"  • Completed transfers: {exp_transferred:,} ({created_to_transferred:.1f}% conversion)\")\n",
    "\n",
    "# Calculate success rates for comparison\n",
    "new_users = set(user_first_experience[user_first_experience == 'New'].index)\n",
    "existing_users = set(user_first_experience[user_first_experience == 'Existing'].index)\n",
    "\n",
    "new_success_rate = len(new_users.intersection(transferred_users)) / len(new_users.intersection(created_users)) * 100\n",
    "existing_success_rate = len(existing_users.intersection(transferred_users)) / len(existing_users.intersection(created_users)) * 100\n",
    "\n",
    "print(f\"\\n📈 SUCCESS RATE COMPARISON:\")\n",
    "print(f\"• New users success rate: {new_success_rate:.1f}%\")\n",
    "print(f\"• Existing users success rate: {existing_success_rate:.1f}%\")\n",
    "print(f\"• Performance gap: {existing_success_rate - new_success_rate:.1f} percentage points\")\n",
    "print(f\"• Existing users are {existing_success_rate/new_success_rate:.1f}x more successful\" if new_success_rate > 0 else \"\")"
   ]
  },
  {
   "cell_type": "code",
   "execution_count": 7,
   "metadata": {},
   "outputs": [
    {
     "data": {
      "image/png": "[encoded data removed]",
      "text/plain": [
       "<Figure size 1600x1200 with 4 Axes>"
      ]
     },
     "metadata": {},
     "output_type": "display_data"
    },
    {
     "name": "stdout",
     "output_type": "stream",
     "text": [
      "\n",
      "💡 KEY INSIGHT:\n",
      "Existing users are 2.2x more likely to complete transfers than new users\n",
      "This confirms that experience/familiarity significantly impacts success rates\n"
     ]
    }
   ],
   "source": [
    "# Visualize New vs Existing performance\n",
    "fig, axes = plt.subplots(2, 2, figsize=(16, 12))\n",
    "\n",
    "# 1. User counts by experience\n",
    "exp_data = pd.DataFrame({\n",
    "    'Experience': ['New', 'Existing'],\n",
    "    'Created': [len(new_users.intersection(created_users)), len(existing_users.intersection(created_users))],\n",
    "    'Funded': [len(new_users.intersection(funded_users)), len(existing_users.intersection(funded_users))],\n",
    "    'Transferred': [len(new_users.intersection(transferred_users)), len(existing_users.intersection(transferred_users))]\n",
    "})\n",
    "\n",
    "exp_data.set_index('Experience')[['Created', 'Funded', 'Transferred']].plot(kind='bar', ax=axes[0,0])\n",
    "axes[0,0].set_title('Funnel Progression: New vs Existing Users', fontweight='bold')\n",
    "axes[0,0].set_ylabel('Number of Users')\n",
    "axes[0,0].tick_params(axis='x', rotation=0)\n",
    "axes[0,0].legend()\n",
    "\n",
    "# 2. Success rates comparison\n",
    "success_rates = [new_success_rate, existing_success_rate]\n",
    "colors = ['lightcoral', 'lightgreen']\n",
    "bars = axes[0,1].bar(['New Users', 'Existing Users'], success_rates, color=colors)\n",
    "axes[0,1].set_title('Success Rate: New vs Existing Users', fontweight='bold')\n",
    "axes[0,1].set_ylabel('Success Rate (%)')\n",
    "axes[0,1].set_ylim(0, max(success_rates) * 1.1)\n",
    "\n",
    "# Add value labels\n",
    "for bar, rate in zip(bars, success_rates):\n",
    "    height = bar.get_height()\n",
    "    axes[0,1].text(bar.get_x() + bar.get_width()/2., height + 0.5,\n",
    "                   f'{rate:.1f}%', ha='center', va='bottom', fontweight='bold')\n",
    "\n",
    "# 3. Conversion rates by stage\n",
    "new_created = len(new_users.intersection(created_users))\n",
    "new_funded = len(new_users.intersection(funded_users))\n",
    "new_transferred = len(new_users.intersection(transferred_users))\n",
    "\n",
    "existing_created = len(existing_users.intersection(created_users))\n",
    "existing_funded = len(existing_users.intersection(funded_users))\n",
    "existing_transferred = len(existing_users.intersection(transferred_users))\n",
    "\n",
    "conversion_data = pd.DataFrame({\n",
    "    'Stage': ['Created→Funded', 'Created→Transferred'],\n",
    "    'New Users': [\n",
    "        new_funded/new_created*100 if new_created > 0 else 0,\n",
    "        new_transferred/new_created*100 if new_created > 0 else 0\n",
    "    ],\n",
    "    'Existing Users': [\n",
    "        existing_funded/existing_created*100 if existing_created > 0 else 0,\n",
    "        existing_transferred/existing_created*100 if existing_created > 0 else 0\n",
    "    ]\n",
    "})\n",
    "\n",
    "conversion_data.set_index('Stage').plot(kind='bar', ax=axes[1,0])\n",
    "axes[1,0].set_title('Conversion Rates by Stage: New vs Existing', fontweight='bold')\n",
    "axes[1,0].set_ylabel('Conversion Rate (%)')\n",
    "axes[1,0].tick_params(axis='x', rotation=45)\n",
    "axes[1,0].legend()\n",
    "\n",
    "# 4. Distribution of experience types in events\n",
    "event_exp_dist = df.groupby(['event_name', 'experience']).size().unstack(fill_value=0)\n",
    "event_exp_pct = event_exp_dist.div(event_exp_dist.sum(axis=1), axis=0) * 100\n",
    "\n",
    "event_exp_pct.plot(kind='bar', stacked=True, ax=axes[1,1], color=['lightcoral', 'lightgreen'])\n",
    "axes[1,1].set_title('Experience Distribution by Event Type', fontweight='bold')\n",
    "axes[1,1].set_ylabel('Percentage')\n",
    "axes[1,1].tick_params(axis='x', rotation=45)\n",
    "axes[1,1].legend(title='Experience')\n",
    "\n",
    "plt.tight_layout()\n",
    "plt.show()\n",
    "\n",
    "print(f\"\\n💡 KEY INSIGHT:\")\n",
    "print(f\"Existing users are {existing_success_rate/new_success_rate:.1f}x more likely to complete transfers than new users\")\n",
    "print(f\"This confirms that experience/familiarity significantly impacts success rates\")"
   ]
  },
  {
   "cell_type": "markdown",
   "metadata": {},
   "source": [
    "## 5. Secondary Splits: Region and Platform within New/Existing\n",
    "\n",
    "### Detailed segmentation analysis"
   ]
  },
  {
   "cell_type": "code",
   "execution_count": 8,
   "metadata": {},
   "outputs": [
    {
     "name": "stdout",
     "output_type": "stream",
     "text": [
      "🌍 REGION & PLATFORM ANALYSIS BY EXPERIENCE\n",
      "============================================================\n",
      "\n",
      "NEW USERS BREAKDOWN:\n",
      "Total new users: 24,666\n",
      "\n",
      "📍 BY REGION:\n",
      "  • NorthAm: 3,910 created, 840 completed (21.5% success)\n",
      "  • Europe: 8,521 created, 1,188 completed (13.9% success)\n",
      "  • Other: 12,515 created, 2,474 completed (19.8% success)\n",
      "\n",
      "📱 BY PLATFORM:\n",
      "  • iOS: 7,491 created, 1,740 completed (23.2% success)\n",
      "  • Web: 7,068 created, 1,245 completed (17.6% success)\n",
      "  • Android: 10,420 created, 1,527 completed (14.7% success)\n",
      "\n",
      "🔀 BY REGION × PLATFORM:\n",
      "  • NorthAm × iOS: 1,548 created, 361 completed (23.3% success)\n",
      "  • NorthAm × Web: 1,596 created, 305 completed (19.1% success)\n",
      "  • NorthAm × Android: 774 created, 175 completed (22.6% success)\n",
      "  • Europe × iOS: 3,450 created, 825 completed (23.9% success)\n",
      "  • Europe × Web: 1,710 created, 295 completed (17.3% success)\n",
      "  • Europe × Android: 3,408 created, 86 completed (2.5% success)\n",
      "  • Other × iOS: 2,521 created, 565 completed (22.4% success)\n",
      "  • Other × Web: 3,785 created, 654 completed (17.3% success)\n",
      "  • Other × Android: 6,282 created, 1,277 completed (20.3% success)\n",
      "\n",
      "EXISTING USERS BREAKDOWN:\n",
      "Total existing users: 15,557\n",
      "\n",
      "📍 BY REGION:\n",
      "  • NorthAm: 5,483 created, 2,287 completed (41.7% success)\n",
      "  • Europe: 7,174 created, 2,844 completed (39.6% success)\n",
      "  • Other: 3,189 created, 1,184 completed (37.1% success)\n",
      "\n",
      "📱 BY PLATFORM:\n",
      "  • iOS: 5,681 created, 2,484 completed (43.7% success)\n",
      "  • Web: 4,613 created, 1,632 completed (35.4% success)\n",
      "  • Android: 5,535 created, 2,191 completed (39.6% success)\n",
      "\n",
      "🔀 BY REGION × PLATFORM:\n",
      "  • NorthAm × iOS: 2,190 created, 1,017 completed (46.4% success)\n",
      "  • NorthAm × Web: 2,221 created, 827 completed (37.2% success)\n",
      "  • NorthAm × Android: 1,095 created, 460 completed (42.0% success)\n",
      "  • Europe × iOS: 2,860 created, 1,224 completed (42.8% success)\n",
      "  • Europe × Web: 1,449 created, 487 completed (33.6% success)\n",
      "  • Europe × Android: 2,910 created, 1,156 completed (39.7% success)\n",
      "  • Other × iOS: 670 created, 264 completed (39.4% success)\n",
      "  • Other × Web: 964 created, 328 completed (34.0% success)\n",
      "  • Other × Android: 1,572 created, 601 completed (38.2% success)\n",
      "\n",
      "🏆 TOP PERFORMING SEGMENTS (min sample size):\n",
      "• Existing_NorthAm_iOS: 46.4% success rate (2,190 users)\n",
      "• Existing_Europe_iOS: 42.8% success rate (2,860 users)\n",
      "• Existing_NorthAm_Android: 42.0% success rate (1,095 users)\n",
      "• Existing_NorthAm: 41.7% success rate (5,483 users)\n",
      "• Existing_Europe_Android: 39.7% success rate (2,910 users)\n",
      "\n",
      "🚨 WORST PERFORMING SEGMENTS:\n",
      "• New_Europe_Web: 17.3% success rate (1,710 users)\n",
      "• New_Europe: 13.9% success rate (8,521 users)\n",
      "• New_Europe_Android: 2.5% success rate (3,408 users)\n",
      "\n",
      "📊 PERFORMANCE GAP: 43.9 percentage points\n"
     ]
    }
   ],
   "source": [
    "print(\"🌍 REGION & PLATFORM ANALYSIS BY EXPERIENCE\")\n",
    "print(\"=\"*60)\n",
    "\n",
    "# Function to calculate success rates for segments\n",
    "def calculate_segment_success(user_subset, segment_name):\n",
    "    if len(user_subset) == 0:\n",
    "        return None\n",
    "    \n",
    "    segment_created = len(user_subset.intersection(created_users))\n",
    "    segment_transferred = len(user_subset.intersection(transferred_users))\n",
    "    \n",
    "    if segment_created == 0:\n",
    "        return None\n",
    "    \n",
    "    success_rate = segment_transferred / segment_created * 100\n",
    "    \n",
    "    return {\n",
    "        'segment': segment_name,\n",
    "        'users': len(user_subset),\n",
    "        'created': segment_created,\n",
    "        'transferred': segment_transferred,\n",
    "        'success_rate': success_rate\n",
    "    }\n",
    "\n",
    "# Analyze by Experience → Region → Platform\n",
    "segment_results = []\n",
    "\n",
    "for exp in ['New', 'Existing']:\n",
    "    exp_users = set(user_first_experience[user_first_experience == exp].index)\n",
    "    exp_data = df[df['user_id'].isin(exp_users)]\n",
    "    \n",
    "    print(f\"\\n{exp.upper()} USERS BREAKDOWN:\")\n",
    "    print(f\"Total {exp.lower()} users: {len(exp_users):,}\")\n",
    "    \n",
    "    # By Region\n",
    "    print(f\"\\n📍 BY REGION:\")\n",
    "    for region in df['region'].unique():\n",
    "        region_users = set(exp_data[exp_data['region'] == region]['user_id'].unique())\n",
    "        result = calculate_segment_success(region_users, f\"{exp}_{region}\")\n",
    "        \n",
    "        if result and result['created'] >= 20:  # Minimum sample size\n",
    "            segment_results.append(result)\n",
    "            print(f\"  • {region}: {result['created']:,} created, {result['transferred']:,} completed ({result['success_rate']:.1f}% success)\")\n",
    "    \n",
    "    # By Platform\n",
    "    print(f\"\\n📱 BY PLATFORM:\")\n",
    "    for platform in df['platform'].unique():\n",
    "        platform_users = set(exp_data[exp_data['platform'] == platform]['user_id'].unique())\n",
    "        result = calculate_segment_success(platform_users, f\"{exp}_{platform}\")\n",
    "        \n",
    "        if result and result['created'] >= 20:  # Minimum sample size\n",
    "            print(f\"  • {platform}: {result['created']:,} created, {result['transferred']:,} completed ({result['success_rate']:.1f}% success)\")\n",
    "    \n",
    "    # By Region × Platform combination\n",
    "    print(f\"\\n🔀 BY REGION × PLATFORM:\")\n",
    "    for region in df['region'].unique():\n",
    "        for platform in df['platform'].unique():\n",
    "            combo_users = set(exp_data[\n",
    "                (exp_data['region'] == region) & \n",
    "                (exp_data['platform'] == platform)\n",
    "            ]['user_id'].unique())\n",
    "            \n",
    "            result = calculate_segment_success(combo_users, f\"{exp}_{region}_{platform}\")\n",
    "            \n",
    "            if result and result['created'] >= 50:  # Higher threshold for combinations\n",
    "                segment_results.append(result)\n",
    "                print(f\"  • {region} × {platform}: {result['created']:,} created, {result['transferred']:,} completed ({result['success_rate']:.1f}% success)\")\n",
    "\n",
    "# Create summary dataframe\n",
    "if segment_results:\n",
    "    segment_df = pd.DataFrame(segment_results)\n",
    "    segment_df = segment_df.sort_values('success_rate', ascending=False)\n",
    "    \n",
    "    print(f\"\\n🏆 TOP PERFORMING SEGMENTS (min sample size):\")\n",
    "    for _, row in segment_df.head(5).iterrows():\n",
    "        print(f\"• {row['segment']}: {row['success_rate']:.1f}% success rate ({row['created']:,} users)\")\n",
    "    \n",
    "    print(f\"\\n🚨 WORST PERFORMING SEGMENTS:\")\n",
    "    for _, row in segment_df.tail(3).iterrows():\n",
    "        print(f\"• {row['segment']}: {row['success_rate']:.1f}% success rate ({row['created']:,} users)\")\n",
    "    \n",
    "    # Performance gap\n",
    "    if len(segment_df) > 1:\n",
    "        performance_gap = segment_df.iloc[0]['success_rate'] - segment_df.iloc[-1]['success_rate']\n",
    "        print(f\"\\n📊 PERFORMANCE GAP: {performance_gap:.1f} percentage points\")"
   ]
  },
  {
   "cell_type": "markdown",
   "metadata": {},
   "source": [
    "## 6. Week-over-Week Consistency Analysis\n",
    "\n",
    "### Are these patterns consistent over time?"
   ]
  },
  {
   "cell_type": "code",
   "execution_count": 9,
   "metadata": {},
   "outputs": [
    {
     "name": "stdout",
     "output_type": "stream",
     "text": [
      "📅 WEEK-OVER-WEEK CONSISTENCY ANALYSIS\n",
      "==================================================\n",
      "📊 WEEKLY PERFORMANCE SUMMARY:\n",
      "Week | New Success | Existing Success | New Users | Existing Users\n",
      "----------------------------------------------------------------------\n"
     ]
    },
    {
     "ename": "ValueError",
     "evalue": "Unknown format code 'd' for object of type 'float'",
     "output_type": "error",
     "traceback": [
      "\u001b[0;31m---------------------------------------------------------------------------\u001b[0m",
      "\u001b[0;31mValueError\u001b[0m                                Traceback (most recent call last)",
      "Cell \u001b[0;32mIn[9], line 49\u001b[0m\n\u001b[1;32m     46\u001b[0m \u001b[38;5;28mprint\u001b[39m(\u001b[38;5;124mf\u001b[39m\u001b[38;5;124m\"\u001b[39m\u001b[38;5;124m-\u001b[39m\u001b[38;5;124m\"\u001b[39m \u001b[38;5;241m*\u001b[39m \u001b[38;5;241m70\u001b[39m)\n\u001b[1;32m     48\u001b[0m \u001b[38;5;28;01mfor\u001b[39;00m _, row \u001b[38;5;129;01min\u001b[39;00m weekly_df\u001b[38;5;241m.\u001b[39miterrows():\n\u001b[0;32m---> 49\u001b[0m     \u001b[38;5;28mprint\u001b[39m(\u001b[38;5;124mf\u001b[39m\u001b[38;5;124m\"\u001b[39m\u001b[38;5;132;43;01m{\u001b[39;49;00m\u001b[43mrow\u001b[49m\u001b[43m[\u001b[49m\u001b[38;5;124;43m'\u001b[39;49m\u001b[38;5;124;43mweek\u001b[39;49m\u001b[38;5;124;43m'\u001b[39;49m\u001b[43m]\u001b[49m\u001b[38;5;132;43;01m:\u001b[39;49;00m\u001b[38;5;124;43m4d\u001b[39;49m\u001b[38;5;132;43;01m}\u001b[39;49;00m\u001b[38;5;124m | \u001b[39m\u001b[38;5;132;01m{\u001b[39;00mrow[\u001b[38;5;124m'\u001b[39m\u001b[38;5;124mnew_success_rate\u001b[39m\u001b[38;5;124m'\u001b[39m]\u001b[38;5;132;01m:\u001b[39;00m\u001b[38;5;124m10.1f\u001b[39m\u001b[38;5;132;01m}\u001b[39;00m\u001b[38;5;124m% | \u001b[39m\u001b[38;5;132;01m{\u001b[39;00mrow[\u001b[38;5;124m'\u001b[39m\u001b[38;5;124mexisting_success_rate\u001b[39m\u001b[38;5;124m'\u001b[39m]\u001b[38;5;132;01m:\u001b[39;00m\u001b[38;5;124m15.1f\u001b[39m\u001b[38;5;132;01m}\u001b[39;00m\u001b[38;5;124m% | \u001b[39m\u001b[38;5;132;01m{\u001b[39;00mrow[\u001b[38;5;124m'\u001b[39m\u001b[38;5;124mtotal_new_users\u001b[39m\u001b[38;5;124m'\u001b[39m]\u001b[38;5;132;01m:\u001b[39;00m\u001b[38;5;124m9d\u001b[39m\u001b[38;5;132;01m}\u001b[39;00m\u001b[38;5;124m | \u001b[39m\u001b[38;5;132;01m{\u001b[39;00mrow[\u001b[38;5;124m'\u001b[39m\u001b[38;5;124mtotal_existing_users\u001b[39m\u001b[38;5;124m'\u001b[39m]\u001b[38;5;132;01m:\u001b[39;00m\u001b[38;5;124m13d\u001b[39m\u001b[38;5;132;01m}\u001b[39;00m\u001b[38;5;124m\"\u001b[39m)\n\u001b[1;32m     51\u001b[0m \u001b[38;5;66;03m# Calculate consistency metrics\u001b[39;00m\n\u001b[1;32m     52\u001b[0m new_success_std \u001b[38;5;241m=\u001b[39m weekly_df[\u001b[38;5;124m'\u001b[39m\u001b[38;5;124mnew_success_rate\u001b[39m\u001b[38;5;124m'\u001b[39m]\u001b[38;5;241m.\u001b[39mstd()\n",
      "\u001b[0;31mValueError\u001b[0m: Unknown format code 'd' for object of type 'float'"
     ]
    }
   ],
   "source": [
    "print(\"📅 WEEK-OVER-WEEK CONSISTENCY ANALYSIS\")\n",
    "print(\"=\"*50)\n",
    "\n",
    "# Weekly analysis by experience type\n",
    "weekly_analysis = []\n",
    "\n",
    "for week in sorted(df['week'].unique()):\n",
    "    week_data = df[df['week'] == week]\n",
    "    \n",
    "    # Get users who first appeared this week by experience\n",
    "    week_user_first_exp = week_data.groupby('user_id').first()['experience']\n",
    "    \n",
    "    week_new_users = set(week_user_first_exp[week_user_first_exp == 'New'].index)\n",
    "    week_existing_users = set(week_user_first_exp[week_user_first_exp == 'Existing'].index)\n",
    "    \n",
    "    week_created = set(week_data[week_data['event_name'] == 'Transfer Created']['user_id'])\n",
    "    week_transferred = set(week_data[week_data['event_name'] == 'Transfer Transferred']['user_id'])\n",
    "    \n",
    "    # Calculate metrics for each experience type\n",
    "    new_created = len(week_new_users.intersection(week_created))\n",
    "    new_transferred = len(week_new_users.intersection(week_transferred))\n",
    "    new_success = new_transferred / new_created * 100 if new_created > 0 else 0\n",
    "    \n",
    "    existing_created = len(week_existing_users.intersection(week_created))\n",
    "    existing_transferred = len(week_existing_users.intersection(week_transferred))\n",
    "    existing_success = existing_transferred / existing_created * 100 if existing_created > 0 else 0\n",
    "    \n",
    "    weekly_analysis.append({\n",
    "        'week': week,\n",
    "        'total_events': len(week_data),\n",
    "        'new_created': new_created,\n",
    "        'new_transferred': new_transferred,\n",
    "        'new_success_rate': new_success,\n",
    "        'existing_created': existing_created,\n",
    "        'existing_transferred': existing_transferred,\n",
    "        'existing_success_rate': existing_success,\n",
    "        'total_new_users': len(week_new_users),\n",
    "        'total_existing_users': len(week_existing_users)\n",
    "    })\n",
    "\n",
    "weekly_df = pd.DataFrame(weekly_analysis)\n",
    "\n",
    "# Display weekly summary\n",
    "print(f\"📊 WEEKLY PERFORMANCE SUMMARY:\")\n",
    "print(f\"Week | New Success | Existing Success | New Users | Existing Users\")\n",
    "print(f\"-\" * 70)\n",
    "\n",
    "for _, row in weekly_df.iterrows():\n",
    "    print(f\"{row['week']:4d} | {row['new_success_rate']:10.1f}% | {row['existing_success_rate']:15.1f}% | {row['total_new_users']:9d} | {row['total_existing_users']:13d}\")\n",
    "\n",
    "# Calculate consistency metrics\n",
    "new_success_std = weekly_df['new_success_rate'].std()\n",
    "existing_success_std = weekly_df['existing_success_rate'].std()\n",
    "new_success_mean = weekly_df['new_success_rate'].mean()\n",
    "existing_success_mean = weekly_df['existing_success_rate'].mean()\n",
    "\n",
    "print(f\"\\n📈 CONSISTENCY METRICS:\")\n",
    "print(f\"• New users success rate: {new_success_mean:.1f}% ± {new_success_std:.1f}% (CV: {new_success_std/new_success_mean*100:.1f}%)\")\n",
    "print(f\"• Existing users success rate: {existing_success_mean:.1f}% ± {existing_success_std:.1f}% (CV: {existing_success_std/existing_success_mean*100:.1f}%)\")\n",
    "\n",
    "if new_success_std/new_success_mean < 0.2 and existing_success_std/existing_success_mean < 0.2:\n",
    "    print(f\"✅ Patterns are CONSISTENT week-over-week (low coefficient of variation)\")\n",
    "else:\n",
    "    print(f\"⚠️  Patterns show VARIABILITY week-over-week (high coefficient of variation)\")"
   ]
  },
  {
   "cell_type": "code",
   "execution_count": null,
   "metadata": {},
   "outputs": [],
   "source": [
    "# Visualize week-over-week trends\n",
    "fig, axes = plt.subplots(2, 2, figsize=(16, 12))\n",
    "\n",
    "# 1. Success rates over time\n",
    "weekly_df.plot(x='week', y=['new_success_rate', 'existing_success_rate'], \n",
    "               ax=axes[0,0], marker='o', linewidth=2)\n",
    "axes[0,0].set_title('Success Rates by Week: New vs Existing Users', fontweight='bold')\n",
    "axes[0,0].set_ylabel('Success Rate (%)')\n",
    "axes[0,0].set_xlabel('Week')\n",
    "axes[0,0].legend(['New Users', 'Existing Users'])\n",
    "axes[0,0].grid(True, alpha=0.3)\n",
    "\n",
    "# 2. User volume over time\n",
    "weekly_df.plot(x='week', y=['total_new_users', 'total_existing_users'], \n",
    "               ax=axes[0,1], marker='s', linewidth=2)\n",
    "axes[0,1].set_title('User Volume by Week: New vs Existing', fontweight='bold')\n",
    "axes[0,1].set_ylabel('Number of Users')\n",
    "axes[0,1].set_xlabel('Week')\n",
    "axes[0,1].legend(['New Users', 'Existing Users'])\n",
    "axes[0,1].grid(True, alpha=0.3)\n",
    "\n",
    "# 3. New vs Existing ratio over time\n",
    "weekly_df['new_existing_ratio'] = weekly_df['total_new_users'] / weekly_df['total_existing_users']\n",
    "weekly_df.plot(x='week', y='new_existing_ratio', ax=axes[1,0], \n",
    "               marker='o', linewidth=2, color='purple')\n",
    "axes[1,0].set_title('New/Existing User Ratio by Week', fontweight='bold')\n",
    "axes[1,0].set_ylabel('New/Existing Ratio')\n",
    "axes[1,0].set_xlabel('Week')\n",
    "axes[1,0].grid(True, alpha=0.3)\n",
    "\n",
    "# 4. Success rate gap over time\n",
    "weekly_df['success_gap'] = weekly_df['existing_success_rate'] - weekly_df['new_success_rate']\n",
    "weekly_df.plot(x='week', y='success_gap', ax=axes[1,1], \n",
    "               marker='o', linewidth=2, color='orange')\n",
    "axes[1,1].set_title('Success Rate Gap (Existing - New) by Week', fontweight='bold')\n",
    "axes[1,1].set_ylabel('Success Rate Gap (percentage points)')\n",
    "axes[1,1].set_xlabel('Week')\n",
    "axes[1,1].grid(True, alpha=0.3)\n",
    "axes[1,1].axhline(y=0, color='red', linestyle='--', alpha=0.5)\n",
    "\n",
    "plt.tight_layout()\n",
    "plt.show()\n",
    "\n",
    "print(f\"\\n📊 WEEKLY TRENDS INSIGHTS:\")\n",
    "print(f\"• Average success gap: {weekly_df['success_gap'].mean():.1f} percentage points\")\n",
    "print(f\"• Most consistent week: Week {weekly_df.loc[weekly_df['success_gap'].abs().idxmin(), 'week']} (gap: {weekly_df['success_gap'].min():.1f}pp)\")\n",
    "print(f\"• Most variable week: Week {weekly_df.loc[weekly_df['success_gap'].abs().idxmax(), 'week']} (gap: {weekly_df['success_gap'].max():.1f}pp)\")"
   ]
  },
  {
   "cell_type": "markdown",
   "metadata": {},
   "source": [
    "## 7. New Users Deep Dive\n",
    "\n",
    "### Where are new users coming from? Regional distribution patterns"
   ]
  },
  {
   "cell_type": "code",
   "execution_count": null,
   "metadata": {},
   "outputs": [],
   "source": [
    "print(\"🆕 NEW USERS DEEP DIVE ANALYSIS\")\n",
    "print(\"=\"*40)\n",
    "\n",
    "# Get all new user events\n",
    "new_user_events = df[df['experience'] == 'New']\n",
    "new_user_ids = set(new_user_events['user_id'].unique())\n",
    "\n",
    "print(f\"👥 NEW USERS OVERVIEW:\")\n",
    "print(f\"• Total new user events: {len(new_user_events):,}\")\n",
    "print(f\"• Unique new users: {len(new_user_ids):,}\")\n",
    "print(f\"• Avg events per new user: {len(new_user_events)/len(new_user_ids):.1f}\")\n",
    "\n",
    "# Regional distribution of new users\n",
    "print(f\"\\n🌍 NEW USERS BY REGION:\")\n",
    "new_user_regions = new_user_events['region'].value_counts()\n",
    "total_by_region = df['region'].value_counts()\n",
    "\n",
    "for region in new_user_regions.index:\n",
    "    new_count = new_user_regions[region]\n",
    "    total_count = total_by_region[region]\n",
    "    new_pct = new_count / new_user_regions.sum() * 100\n",
    "    representation = new_count / total_count * 100\n",
    "    \n",
    "    print(f\"• {region}:\")\n",
    "    print(f\"  - New user events: {new_count:,} ({new_pct:.1f}% of all new user events)\")\n",
    "    print(f\"  - Representation: {representation:.1f}% of {region} events are from new users\")\n",
    "\n",
    "# Platform distribution of new users\n",
    "print(f\"\\n📱 NEW USERS BY PLATFORM:\")\n",
    "new_user_platforms = new_user_events['platform'].value_counts()\n",
    "total_by_platform = df['platform'].value_counts()\n",
    "\n",
    "for platform in new_user_platforms.index:\n",
    "    new_count = new_user_platforms[platform]\n",
    "    total_count = total_by_platform[platform]\n",
    "    new_pct = new_count / new_user_platforms.sum() * 100\n",
    "    representation = new_count / total_count * 100\n",
    "    \n",
    "    print(f\"• {platform}:\")\n",
    "    print(f\"  - New user events: {new_count:,} ({new_pct:.1f}% of all new user events)\")\n",
    "    print(f\"  - Representation: {representation:.1f}% of {platform} events are from new users\")\n",
    "\n",
    "# Cross-analysis: Region × Platform for new users\n",
    "print(f\"\\n🔀 NEW USERS: REGION × PLATFORM BREAKDOWN:\")\n",
    "new_user_cross = new_user_events.groupby(['region', 'platform']).size().reset_index(name='count')\n",
    "new_user_cross['percentage'] = new_user_cross['count'] / len(new_user_events) * 100\n",
    "\n",
    "for _, row in new_user_cross.sort_values('count', ascending=False).iterrows():\n",
    "    print(f\"• {row['region']} × {row['platform']}: {row['count']:,} events ({row['percentage']:.1f}%)\")\n",
    "\n",
    "# Compare new user representation across regions\n",
    "print(f\"\\n📊 NEW USER REPRESENTATION COMPARISON:\")\n",
    "region_representation = []\n",
    "for region in df['region'].unique():\n",
    "    region_total = len(df[df['region'] == region])\n",
    "    region_new = len(new_user_events[new_user_events['region'] == region])\n",
    "    representation_pct = region_new / region_total * 100\n",
    "    \n",
    "    region_representation.append({\n",
    "        'region': region,\n",
    "        'total_events': region_total,\n",
    "        'new_events': region_new,\n",
    "        'new_representation': representation_pct\n",
    "    })\n",
    "\n",
    "repr_df = pd.DataFrame(region_representation).sort_values('new_representation', ascending=False)\n",
    "\n",
    "print(f\"Regional ranking by new user representation:\")\n",
    "for _, row in repr_df.iterrows():\n",
    "    print(f\"• {row['region']}: {row['new_representation']:.1f}% new user events\")\n",
    "\n",
    "# Statistical test for representation differences\n",
    "max_repr = repr_df['new_representation'].max()\n",
    "min_repr = repr_df['new_representation'].min()\n",
    "repr_gap = max_repr - min_repr\n",
    "\n",
    "print(f\"\\n🎯 KEY FINDINGS:\")\n",
    "print(f\"• New user representation gap: {repr_gap:.1f} percentage points between regions\")\n",
    "print(f\"• Highest new user region: {repr_df.iloc[0]['region']} ({max_repr:.1f}%)\")\n",
    "print(f\"• Lowest new user region: {repr_df.iloc[-1]['region']} ({min_repr:.1f}%)\")\n",
    "\n",
    "if repr_gap > 10:\n",
    "    print(f\"⚠️  SIGNIFICANT regional differences in new user representation\")\n",
    "else:\n",
    "    print(f\"✅ Regional new user representation is relatively consistent\")"
   ]
  },
  {
   "cell_type": "code",
   "execution_count": null,
   "metadata": {},
   "outputs": [],
   "source": [
    "# Visualize new user patterns\n",
    "fig, axes = plt.subplots(2, 2, figsize=(16, 12))\n",
    "\n",
    "# 1. New user distribution by region\n",
    "new_user_regions.plot(kind='bar', ax=axes[0,0], color='lightblue')\n",
    "axes[0,0].set_title('New User Events by Region', fontweight='bold')\n",
    "axes[0,0].set_ylabel('Number of Events')\n",
    "axes[0,0].tick_params(axis='x', rotation=45)\n",
    "\n",
    "# 2. New user representation by region\n",
    "repr_df.plot(x='region', y='new_representation', kind='bar', ax=axes[0,1], color='orange')\n",
    "axes[0,1].set_title('New User Representation by Region', fontweight='bold')\n",
    "axes[0,1].set_ylabel('% of Regional Events from New Users')\n",
    "axes[0,1].tick_params(axis='x', rotation=45)\n",
    "axes[0,1].legend().set_visible(False)\n",
    "\n",
    "# 3. Platform distribution for new users\n",
    "new_user_platforms.plot(kind='bar', ax=axes[1,0], color='lightgreen')\n",
    "axes[1,0].set_title('New User Events by Platform', fontweight='bold')\n",
    "axes[1,0].set_ylabel('Number of Events')\n",
    "axes[1,0].tick_params(axis='x', rotation=0)\n",
    "\n",
    "# 4. Heatmap of Region × Platform for new users\n",
    "pivot_new = new_user_events.pivot_table(values='user_id', index='region', columns='platform', aggfunc='count', fill_value=0)\n",
    "sns.heatmap(pivot_new, annot=True, fmt='d', cmap='Blues', ax=axes[1,1])\n",
    "axes[1,1].set_title('New User Events: Region × Platform Heatmap', fontweight='bold')\n",
    "\n",
    "plt.tight_layout()\n",
    "plt.show()\n",
    "\n",
    "# Weekly trend of new users\n",
    "print(f\"\\n📅 NEW USER TRENDS BY WEEK:\")\n",
    "weekly_new = new_user_events['week'].value_counts().sort_index()\n",
    "print(f\"Week | New User Events\")\n",
    "print(f\"-\" * 25)\n",
    "for week, count in weekly_new.items():\n",
    "    print(f\"{week:4d} | {count:13,}\")\n",
    "\n",
    "new_user_std = weekly_new.std()\n",
    "new_user_mean = weekly_new.mean()\n",
    "print(f\"\\nWeekly new user events: {new_user_mean:.0f} ± {new_user_std:.0f} (CV: {new_user_std/new_user_mean*100:.1f}%)\")\n",
    "\n",
    "if new_user_std/new_user_mean < 0.3:\n",
    "    print(f\"✅ New user acquisition is STABLE week-over-week\")\n",
    "else:\n",
    "    print(f\"⚠️  New user acquisition shows VARIABILITY week-over-week\")"
   ]
  },
  {
   "cell_type": "markdown",
   "metadata": {},
   "source": [
    "## 8. Summary and Key Insights"
   ]
  },
  {
   "cell_type": "code",
   "execution_count": null,
   "metadata": {},
   "outputs": [],
   "source": [
    "print(\"📋 EXECUTIVE SUMMARY - KEY INSIGHTS\")\n",
    "print(\"=\"*60)\n",
    "\n",
    "print(f\"\\n🎯 FUNNEL PERFORMANCE:\")\n",
    "print(f\"• Users creating transfers: {len(created_users):,}\")\n",
    "print(f\"• Funnel conversion (Created→Transferred): {created_to_transferred:.1f}%\")\n",
    "print(f\"• Major drop-off at Created→Funded: {len(created_not_funded):,} users ({len(created_not_funded)/len(created_users)*100:.1f}%)\")\n",
    "\n",
    "print(f\"\\n👑 FREQUENT USERS:\")\n",
    "if len(frequent_users) > 0:\n",
    "    print(f\"• Power users (2+ transfers): {len(frequent_users):,} ({len(frequent_users)/len(created_users)*100:.1f}% of creators)\")\n",
    "    print(f\"• Max transfers by single user: {frequent_users.max()}\")\n",
    "    print(f\"• Average transfers per power user: {frequent_users.mean():.1f}\")\n",
    "\n",
    "print(f\"\\n🆕 NEW vs EXISTING PERFORMANCE:\")\n",
    "print(f\"• New users success rate: {new_success_rate:.1f}%\")\n",
    "print(f\"• Existing users success rate: {existing_success_rate:.1f}%\")\n",
    "print(f\"• Performance gap: {existing_success_rate - new_success_rate:.1f} percentage points\")\n",
    "print(f\"• Existing users are {existing_success_rate/new_success_rate:.1f}x more successful\")\n",
    "\n",
    "print(f\"\\n📅 CONSISTENCY:\")\n",
    "print(f\"• Success rate patterns are {'CONSISTENT' if new_success_std/new_success_mean < 0.2 else 'VARIABLE'} week-over-week\")\n",
    "print(f\"• New user acquisition is {'STABLE' if new_user_std/new_user_mean < 0.3 else 'VARIABLE'} week-over-week\")\n",
    "\n",
    "print(f\"\\n🌍 REGIONAL INSIGHTS:\")\n",
    "print(f\"• New user representation gap: {repr_gap:.1f} percentage points between regions\")\n",
    "print(f\"• Highest new user region: {repr_df.iloc[0]['region']} ({repr_df.iloc[0]['new_representation']:.1f}% new)\")\n",
    "print(f\"• Lowest new user region: {repr_df.iloc[-1]['region']} ({repr_df.iloc[-1]['new_representation']:.1f}% new)\")\n",
    "\n",
    "if 'segment_df' in locals() and len(segment_df) > 1:\n",
    "    print(f\"\\n🔍 SEGMENTATION:\")\n",
    "    print(f\"• Best performing segment: {segment_df.iloc[0]['segment']} ({segment_df.iloc[0]['success_rate']:.1f}% success)\")\n",
    "    print(f\"• Worst performing segment: {segment_df.iloc[-1]['segment']} ({segment_df.iloc[-1]['success_rate']:.1f}% success)\")\n",
    "    print(f\"• Segment performance gap: {performance_gap:.1f} percentage points\")\n",
    "\n",
    "print(f\"\\n🎯 STRATEGIC PRIORITIES:\")\n",
    "print(f\"1. Address the {existing_success_rate - new_success_rate:.1f}pp performance gap between new and existing users\")\n",
    "print(f\"2. Focus on the {len(created_not_funded)/len(created_users)*100:.1f}% of users who create but never fund transfers\")\n",
    "print(f\"3. Grow the power user base from {len(frequent_users)/len(created_users)*100:.1f}% to higher retention\")\n",
    "print(f\"4. Investigate regional differences in new user representation\")\n",
    "if 'segment_df' in locals() and len(segment_df) > 1:\n",
    "    print(f\"5. Optimize worst-performing segments with {performance_gap:.1f}pp gap\")\n",
    "\n",
    "print(f\"\\n\" + \"=\"*60)\n",
    "print(f\"✅ ANALYSIS COMPLETE\")\n",
    "print(f\"Ready for strategic planning and optimization initiatives\")\n",
    "print(f\"=\"*60)"
   ]
  }
 ],
 "metadata": {
  "kernelspec": {
   "display_name": "Python (myenv)",
   "language": "python",
   "name": "myenv"
  },
  "language_info": {
   "codemirror_mode": {
    "name": "ipython",
    "version": 3
   },
   "file_extension": ".py",
   "mimetype": "text/x-python",
   "name": "python",
   "nbconvert_exporter": "python",
   "pygments_lexer": "ipython3",
   "version": "3.12.4"
  }
 },
 "nbformat": 4,
 "nbformat_minor": 4
}
