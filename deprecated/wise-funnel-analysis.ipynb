{
 "cells": [
  {
   "cell_type": "markdown",
   "metadata": {},
   "source": [
    "# Wise Transfer Funnel Analysis (v3): Performance Deep Dive"
   ]
  },
  {
   "cell_type": "markdown",
   "metadata": {},
   "source": [
    "## 1. Setup and Data Preparation"
   ]
  },
  {
   "cell_type": "code",
   "execution_count": null,
   "metadata": {},
   "outputs": [],
   "source": [
    "import pandas as pd\n",
    "import numpy as np\n",
    "import matplotlib.pyplot as plt\n",
    "import seaborn as sns\n",
    "import warnings\n",
    "import os\n",
    "from sklearn.model_selection import train_test_split\n",
    "from sklearn.linear_model import LogisticRegression\n",
    "from sklearn.metrics import classification_report\n",
    "\n",
    "warnings.filterwarnings('ignore')\n",
    "\n",
    "# Visualization settings\n",
    "plt.style.use('seaborn-v0_8-whitegrid')\n",
    "palette = sns.color_palette('Greens_r', n_colors=10)\n",
    "sns.set_palette(palette)\n",
    "IMAGE_DIR = 'images'\n",
    "os.makedirs(IMAGE_DIR, exist_ok=True)\n",
    "\n",
    "# Load and prepare the data\n",
    "df = pd.read_csv('src/wise_funnel_events.csv')\n",
    "df['dt'] = pd.to_datetime(df['dt'])\n",
    "df['week'] = df['dt'].dt.isocalendar().week\n",
    "\n",
    "print('Data loaded and prepared.')"
   ]
  },
  {
   "cell_type": "markdown",
   "metadata": {},
   "source": [
    "## 2. Overall Funnel Health: New vs. Existing Users"
   ]
  },
  {
   "cell_type": "code",
   "execution_count": null,
   "metadata": {},
   "outputs": [],
   "source": [
    "def analyze_funnel_by_experience(df_exp, experience_type):\n",
    "    created = df_exp[df_exp['event_name'] == 'Transfer Created']['user_id'].nunique()\n",
    "    funded = df_exp[df_exp['event_name'] == 'Transfer Funded']['user_id'].nunique()\n",
    "    transferred = df_exp[df_exp['event_name'] == 'Transfer Transferred']['user_id'].nunique()\n",
    "    return {'Created': created, 'Funded': funded, 'Transferred': transferred}\n",
    "\n",
    "new_funnel_data = analyze_funnel_by_experience(df[df['experience'] == 'New'], 'New')\n",
    "existing_funnel_data = analyze_funnel_by_experience(df[df['experience'] == 'Existing'], 'Existing')\n",
    "funnel_comparison = pd.DataFrame({'New': new_funnel_data, 'Existing': existing_funnel_data})\n",
    "new_conv = (funnel_comparison['New'] / funnel_comparison['New']['Created']) * 100\n",
    "existing_conv = (funnel_comparison['Existing'] / funnel_comparison['Existing']['Created']) * 100\n",
    "conv_comparison = pd.DataFrame({'New (%)': new_conv, 'Existing (%)': existing_conv})\n",
    "\n",
    "fig, ax = plt.subplots(figsize=(12, 7))\n",
    "conv_comparison.T.plot(kind='bar', ax=ax)\n",
    "ax.set_title('New vs. Existing User Conversion Rates', fontsize=16, fontweight='bold')\n",
    "ax.set_ylabel('Conversion Rate (%)')\n",
    "ax.tick_params(axis='x', rotation=0)\n",
    "plt.savefig(f'{IMAGE_DIR}/new_vs_existing_conversion.png')\n",
    "plt.show()"
   ]
  },
  {
   "cell_type": "markdown",
   "metadata": {},
   "source": [
    "![New vs. Existing User Conversion Rates](images/new_vs_existing_conversion.png)"
   ]
  },
  {
   "cell_type": "markdown",
   "metadata": {},
   "source": [
    "## 3. Android Weekly Performance Analysis"
   ]
  },
  {
   "cell_type": "code",
   "execution_count": null,
   "metadata": {},
   "outputs": [],
   "source": [
    "android_df = df[(df['experience'] == 'New') & (df['platform'] == 'Android')]\n",
    "weekly_funnel = android_df.groupby('week')['event_name'].value_counts().unstack().fillna(0)\n",
    "weekly_funnel = weekly_funnel.reindex(columns=['Transfer Created', 'Transfer Funded', 'Transfer Transferred']).fillna(0)\n",
    "weekly_conv = weekly_funnel.div(weekly_funnel['Transfer Created'], axis=0).drop(columns=['Transfer Created']) * 100\n",
    "\n",
    "fig, ax = plt.subplots(figsize=(14, 7))\n",
    "weekly_conv.plot(kind='bar', ax=ax, width=0.8)\n",
    "ax.set_title('Android Weekly Conversion Funnel for New Users', fontsize=16, fontweight='bold')\n",
    "ax.set_ylabel('Conversion Rate (%)')\n",
    "ax.set_xlabel('Week of the Year')\n",
    "ax.tick_params(axis='x', rotation=45)\n",
    "ax.legend(['Funded Rate', 'Transferred Rate'])\n",
    "plt.tight_layout()\n",
    "plt.savefig(f'{IMAGE_DIR}/android_weekly_conversion.png')\n",
    "plt.show()"
   ]
  },
  {
   "cell_type": "markdown",
   "metadata": {},
   "source": [
    "![Android Weekly Conversion](images/android_weekly_conversion.png)"
   ]
  },
  {
   "cell_type": "markdown",
   "metadata": {},
   "source": [
    "## 4. Settled vs. Unsettled User Analysis"
   ]
  },
  {
   "cell_type": "code",
   "execution_count": null,
   "metadata": {},
   "outputs": [],
   "source": [
    "new_user_ids = df[df['experience'] == 'New']['user_id'].unique()\n",
    "all_new_users = df[df['user_id'].isin(new_user_ids)].drop_duplicates(subset='user_id').set_index('user_id')\n",
    "transferred_users = df[df['event_name'] == 'Transfer Transferred']['user_id'].unique()\n",
    "all_new_users['status'] = np.where(all_new_users.index.isin(transferred_users), 'Settled', 'Unsettled')\n",
    "\n",
    "fig, (ax1, ax2) = plt.subplots(1, 2, figsize=(18, 7))\n",
    "all_new_users.groupby('platform')['status'].value_counts(normalize=True).unstack().plot(kind='bar', stacked=True, ax=ax1)\n",
    "ax1.set_title('Settled vs. Unsettled by Platform', fontsize=14, fontweight='bold')\n",
    "ax1.set_ylabel('Proportion of Users')\n",
    "ax1.tick_params(axis='x', rotation=0)\n",
    "\n",
    "all_new_users.groupby('region')['status'].value_counts(normalize=True).unstack().plot(kind='bar', stacked=True, ax=ax2)\n",
    "ax2.set_title('Settled vs. Unsettled by Region', fontsize=14, fontweight='bold')\n",
    "ax2.set_ylabel('Proportion of Users')\n",
    "ax2.tick_params(axis='x', rotation=0)\n",
    "\n",
    "plt.suptitle('Profile of Successful vs. Dropped-Off Users', fontsize=18, fontweight='bold')\n",
    "plt.tight_layout(rect=[0, 0, 1, 0.95])\n",
    "plt.savefig(f'{IMAGE_DIR}/settled_unsettled_distribution.png')\n",
    "plt.show()"
   ]
  },
  {
   "cell_type": "markdown",
   "metadata": {},
   "source": [
    "![Settled vs. Unsettled Distribution](images/settled_unsettled_distribution.png)"
   ]
  },
  {
   "cell_type": "markdown",
   "metadata": {},
   "source": [
    "## 5. Logistic Regression: Key Drivers of Conversion"
   ]
  },
  {
   "cell_type": "code",
   "execution_count": null,
   "metadata": {},
   "outputs": [],
   "source": [
    "model_df = all_new_users.copy()\n",
    "model_df['converted'] = (model_df['status'] == 'Settled').astype(int)\n",
    "model_df = pd.get_dummies(model_df, columns=['platform', 'region'], drop_first=True)\n",
    "\n",
    "X = model_df.drop(columns=['dt', 'experience', 'status', 'converted', 'week', 'event_name'])\n",
    "y = model_df['converted']\n",
    "\n",
    "X_train, X_test, y_train, y_test = train_test_split(X, y, test_size=0.3, random_state=42, stratify=y)\n",
    "log_reg = LogisticRegression(class_weight='balanced', solver='liblinear')\n",
    "log_reg.fit(X_train, y_train)\n",
    "\n",
    "coefficients = pd.DataFrame({'feature': X.columns, 'coefficient': log_reg.coef_[0]})\n",
    "coefficients['impact'] = np.exp(coefficients['coefficient'])\n",
    "coefficients = coefficients.sort_values(by='coefficient', ascending=False)\n",
    "\n",
    "fig, ax = plt.subplots(figsize=(12, 7))\n",
    "sns.barplot(x='coefficient', y='feature', data=coefficients, ax=ax, palette=sns.color_palette('Greens_r', n_colors=len(coefficients)))\n",
    "ax.set_title('Impact of Features on Conversion (Logistic Regression Coefficients)', fontsize=16, fontweight='bold')\n",
    "ax.set_xlabel('Coefficient (Log-Odds)')\n",
    "ax.set_ylabel('Feature')\n",
    "plt.tight_layout()\n",
    "plt.savefig(f'{IMAGE_DIR}/logistic_regression_coefficients.png')\n",
    "plt.show()"
   ]
  },
  {
   "cell_type": "markdown",
   "metadata": {},
   "source": [
    "![Logistic Regression Coefficients](images/logistic_regression_coefficients.png)"
   ]
  },
  {
   "cell_type": "markdown",
   "metadata": {},
   "source": [
    "## 6. Final Recommendations"
   ]
  },
  {
   "cell_type": "markdown",
   "metadata": {},
   "source": [
    "### 1. **Fix the Web and Android Experience Immediately.**\n",
    "   *   **Problem**: Web and Android are the biggest leaks. The logistic regression model confirms that being on Web or Android significantly decreases the odds of converting compared to iOS.\n",
    "   *   **Action**: Launch a dedicated squad to conduct a full UX/UI audit of the Web and Android onboarding funnels. Use session replay tools to identify specific friction points. Prioritize fixing bugs and simplifying the flow on these platforms.\n",
    "\n",
    "### 2. **Develop a Non-North American Growth Strategy.**\n",
    "   *   **Problem**: The product is not resonating outside of North America. The regression shows that being in 'Other' or 'Europe' has a negative impact on conversion compared to North America.\n",
    "   *   **Action**: Conduct market-specific research in Europe to identify the most trusted and commonly used payment methods. A/B test localization of the user interface, including language and currency presentation.\n",
    "\n",
    "### 3. **Shift Focus from Acquisition to Onboarding.**\n",
    "   *   **Problem**: The data clearly shows the problem isn't getting users in the door; it's getting them to complete a transfer.\n",
    "   *   **Action**: Reallocate resources from top-of-funnel acquisition campaigns to improving the onboarding experience, especially for the identified weak points: Web, Android, and non-NA regions."
   ]
  }
 ],
 "metadata": {
  "kernelspec": {
   "display_name": "Python (myenv)",
   "language": "python",
   "name": "myenv"
  },
  "language_info": {
   "codemirror_mode": {
    "name": "ipython",
    "version": 3
   },
   "file_extension": ".py",
   "mimetype": "text/x-python",
   "name": "python",
   "nbconvert_exporter": "python",
   "pygments_lexer": "ipython3",
   "version": "3.12.4"
  }
 },
 "nbformat": 4,
 "nbformat_minor": 4
}