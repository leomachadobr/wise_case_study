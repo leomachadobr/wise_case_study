{
 "cells": [
  {
   "cell_type": "code",
   "execution_count": null,
   "id": "31a7b3d4",
   "metadata": {},
   "outputs": [],
   "source": "# Notebook 4 — Exports for Slides\nimport pandas as pd\nimport matplotlib.pyplot as plt\nimport sys\nimport os\nsys.path.append('..')\nfrom src.funnel_utils import WISE_COLORS\n\ndaily = pd.read_csv(\"../data/daily_segmented.csv\")\nglobal_d = pd.read_csv(\"../data/daily_global.csv\")\n\n# Global success rate plot\nplt.figure(figsize=(10,4))\nplt.plot(global_d[\"created_date\"], global_d[\"success_rate\"], label=\"Success Rate\", linewidth=1.5, color=WISE_COLORS[2])\nplt.plot(global_d[\"created_date\"], global_d[\"success_rate_ma7\"], label=\"MA7\", linewidth=2.5, color=WISE_COLORS[0])\nplt.legend(); plt.title(\"Global Success Rate (Daily & MA7)\"); plt.xticks(rotation=45); plt.tight_layout()\nplt.savefig(\"../exports/global_success_rate.png\", dpi=200)\n\n# 100% stacked bar by segment (example: region)\n# Prepare a recent window\nrecent = daily.copy()\n# compute shares\ngrp = recent.groupby([\"created_date\",\"region\"], dropna=False).agg(\n    created=(\"created\",\"sum\"),\n    transferred=(\"transferred\",\"sum\")\n).reset_index()\ngrp[\"not_transferred\"] = grp[\"created\"] - grp[\"transferred\"]\n# export a recent day table\nrecent_day = grp[\"created_date\"].max()\nout_tab = grp[grp[\"created_date\"] == recent_day].copy()\nout_tab.to_csv(\"../data/exports/region_share_latest.csv\", index=False)\n\nprint(\"Slide assets exported.\")"
  }
 ],
 "metadata": {
  "language_info": {
   "name": "python"
  }
 },
 "nbformat": 4,
 "nbformat_minor": 5
}