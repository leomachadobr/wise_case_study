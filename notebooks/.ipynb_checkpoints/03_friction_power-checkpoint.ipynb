{
 "cells": [
  {
   "cell_type": "code",
   "execution_count": null,
   "id": "2e96f6a5",
   "metadata": {},
   "outputs": [],
   "source": "# Notebook 3 — Friction & Power Usage\nimport pandas as pd\nimport numpy as np\n\ntransfers = pd.read_csv(\"../data/transfers_level.csv\", parse_dates=[\"created_dt\",\"funded_dt\",\"transferred_dt\"])\n\n# Time deltas (friction)\ntransfers[\"to_funded_hours\"] = (transfers[\"funded_dt\"] - transfers[\"created_dt\"]).dt.total_seconds() / 3600\ntransfers[\"to_transferred_hours\"] = (transfers[\"transferred_dt\"] - transfers[\"funded_dt\"]).dt.total_seconds() / 3600\n\nby_seg = [\"region\",\"platform\",\"experience\"]\nfriction = transfers.groupby(by_seg, dropna=False).agg(\n    created=(\"transfer_created\",\"sum\"),\n    funded=(\"transfer_funded\",\"sum\"),\n    transferred=(\"transfer_transferred\",\"sum\"),\n    ttf_median_hours=(\"to_funded_hours\",\"median\"),\n    ttt_median_hours=(\"to_transferred_hours\",\"median\")\n).reset_index()\n\nfriction[\"cr_created_to_funded\"] = (friction[\"funded\"]/friction[\"created\"]).fillna(0)\nfriction[\"cr_funded_to_transferred\"] = (friction[\"transferred\"]/friction[\"funded\"]).fillna(0)\nfriction[\"failure_rate\"] = (friction[\"created\"] - friction[\"transferred\"]).div(friction[\"created\"]).fillna(0)\nfriction[\"success_rate\"] = 1 - friction[\"failure_rate\"]\n\nfriction.to_csv(\"../data/friction_segmented.csv\", index=False)\n\n# Power usage: user-level intensity vs success\nuser_stats = transfers.groupby(\"user_id\").agg(\n    transfers_created=(\"transfer_created\",\"sum\"),\n    transfers_transferred=(\"transfer_transferred\",\"sum\")\n).reset_index()\nuser_stats[\"success_rate\"] = (user_stats[\"transfers_transferred\"] / user_stats[\"transfers_created\"]).fillna(0)\nuser_stats[\"intensity\"] = user_stats[\"transfers_created\"]\n\nbins = [0,1,2,5,10,25,50,1e9]\nlabels = [\"1\",\"2\",\"3-5\",\"6-10\",\"11-25\",\"26-50\",\"50+\"]\nuser_stats[\"intensity_bucket\"] = pd.cut(user_stats[\"intensity\"], bins=bins, labels=labels, right=True)\n\npower = user_stats.groupby(\"intensity_bucket\").agg(\n    users=(\"user_id\",\"count\"),\n    avg_success_rate=(\"success_rate\",\"mean\"),\n    total_transfers=(\"intensity\",\"sum\")\n).reset_index()\n\npower.to_csv(\"../data/power_usage.csv\", index=False)\n\nprint(\"Friction and power usage tables exported.\")"
  }
 ],
 "metadata": {},
 "nbformat": 4,
 "nbformat_minor": 5
}