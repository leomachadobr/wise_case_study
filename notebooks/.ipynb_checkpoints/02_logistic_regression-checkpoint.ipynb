{
 "cells": [
  {
   "cell_type": "code",
   "execution_count": null,
   "id": "794cd989",
   "metadata": {},
   "outputs": [],
   "source": "# Notebook 2 — Logistic Regression (Unsettled vs the rest)\nimport pandas as pd\nfrom sklearn.model_selection import train_test_split\nfrom sklearn.preprocessing import OneHotEncoder\nfrom sklearn.compose import ColumnTransformer\nfrom sklearn.linear_model import LogisticRegression\nfrom sklearn.pipeline import Pipeline\nfrom sklearn.metrics import roc_auc_score, classification_report\n\ntransfers = pd.read_csv(\"../data/transfers_level.csv\", parse_dates=[\"created_dt\",\"funded_dt\",\"transferred_dt\"])\n\n# Target: 1 if UNSETTLED else 0 (per AP)\ny = (transfers[\"status\"] == \"unsettled\").astype(int)\n\n# Features\ntransfers[\"created_hour\"] = transfers[\"created_dt\"].dt.hour\ntransfers[\"created_dow\"] = transfers[\"created_dt\"].dt.dayofweek\nX = transfers[[\"region\",\"platform\",\"experience\",\"created_hour\",\"created_dow\"]]\n\ncat = [\"region\",\"platform\",\"experience\"]\nnum = [\"created_hour\",\"created_dow\"]\n\npre = ColumnTransformer(\n    transformers=[(\"cat\", OneHotEncoder(handle_unknown=\"ignore\"), cat), (\"num\", \"passthrough\", num)]\n)\n\nclf = Pipeline([(\"prep\", pre), (\"lr\", LogisticRegression(max_iter=1000, class_weight=\"balanced\"))])\n\nX_train, X_test, y_train, y_test = train_test_split(X, y, stratify=y, test_size=0.25, random_state=42)\nclf.fit(X_train, y_train)\npred = clf.predict(X_test)\nproba = clf.predict_proba(X_test)[:,1]\n\nprint(\"ROC-AUC:\", roc_auc_score(y_test, proba))\nprint(classification_report(y_test, pred))"
  },
  {
   "cell_type": "code",
   "execution_count": null,
   "id": "010d5b85",
   "metadata": {},
   "outputs": [],
   "source": [
    "\n",
    "# Inspect approximate feature effects via coefficients\n",
    "import numpy as np\n",
    "ohe = clf.named_steps[\"prep\"].named_transformers_[\"cat\"]\n",
    "cat_features = list(ohe.get_feature_names_out(cat))\n",
    "feature_names = cat_features + num\n",
    "coef = clf.named_steps[\"lr\"].coef_[0]\n",
    "coef_df = pd.DataFrame({\"feature\": feature_names, \"coef\": coef}).sort_values(\"coef\", ascending=False)\n",
    "coef_df.head(25)\n"
   ]
  }
 ],
 "metadata": {},
 "nbformat": 4,
 "nbformat_minor": 5
}